{
 "cells": [
  {
   "cell_type": "markdown",
   "metadata": {},
   "source": [
    "# Imports"
   ]
  },
  {
   "cell_type": "code",
   "execution_count": 1,
   "metadata": {},
   "outputs": [],
   "source": [
    "import pyodbc\n",
    "import pandas as pd\n",
    "import warnings\n",
    "import matplotlib.pyplot as plt\n",
    "import seaborn as sns\n",
    "from mlxtend.frequent_patterns import apriori, association_rules\n",
    "import plotly.express as px\n",
    "import plotly.graph_objects as go\n",
    "\n",
    "warnings.simplefilter(\"ignore\")"
   ]
  },
  {
   "cell_type": "markdown",
   "metadata": {},
   "source": [
    "# Functions"
   ]
  },
  {
   "cell_type": "markdown",
   "metadata": {},
   "source": [
    "## Database"
   ]
  },
  {
   "cell_type": "code",
   "execution_count": 2,
   "metadata": {},
   "outputs": [],
   "source": [
    "def get_tables_db(cursor:pyodbc.Cursor)->list:\n",
    "\n",
    "    names = []\n",
    "    for row in cursor.tables():\n",
    "        if \"MSys\" not in str(row.table_name):\n",
    "            names.append(row.table_name)\n",
    "    \n",
    "    return names\n",
    "    \n",
    "def get_data(table_name:str, conn:pyodbc.connect)->pd.DataFrame:\n",
    "    \n",
    "    return pd.read_sql_query(\"select * from \"+table_name, con=conn)"
   ]
  },
  {
   "cell_type": "markdown",
   "metadata": {},
   "source": [
    "## Preprocessing"
   ]
  },
  {
   "cell_type": "code",
   "execution_count": 3,
   "metadata": {},
   "outputs": [],
   "source": [
    "numerics = ['int16', 'int32', 'int64', 'float16', 'float32', 'float64']\n",
    "categorics = ['category', 'object']\n",
    "\n",
    "def show_stats_numeric(df:pd.DataFrame):\n",
    "\n",
    "    columns = df.select_dtypes(include=numerics).columns\n",
    "\n",
    "    for column in columns:\n",
    "        print(f\"col:{column}\\nnulls:{df[column].isnull().sum()}, duplicated:{df[column].duplicated().sum()}, nunique:{df[column].nunique()}, values_uniques:{sorted(df[column].unique())}, value_min:{df[column].min()}, value_max:{df[column].max()} \\n\")\n",
    "\n",
    "def show_stats_categorical(df:pd.DataFrame):\n",
    "\n",
    "    columns = df.select_dtypes(include=categorics).columns\n",
    "\n",
    "    for column in columns:\n",
    "        print(f\"col:{column}\\n{df[column].value_counts()}\")"
   ]
  },
  {
   "cell_type": "markdown",
   "metadata": {},
   "source": [
    "## Machine Learning"
   ]
  },
  {
   "cell_type": "code",
   "execution_count": 4,
   "metadata": {},
   "outputs": [],
   "source": [
    "def generate_association_rules(df:pd.DataFrame, min_sup:float, metric_use:str, threshold:float  )->pd.DataFrame:\n",
    "\n",
    "    frequent_itens = apriori(df, min_support=min_sup, use_colnames=True)\n",
    "\n",
    "    rules = association_rules(frequent_itens, metric=metric_use, min_threshold=threshold)\n",
    "    rules = rules.query(\"lift >= 1\").sort_values(by=['confidence','support'], ascending = [False, False])\n",
    "   \n",
    "    return frequent_itens, rules\n",
    "\n",
    "def format_data_to_apriori(df:pd.DataFrame, columns:list)->pd.DataFrame:\n",
    "\n",
    "    df_apriori = df[columns]\n",
    "    df_apriori = pd.get_dummies(df_apriori)\n",
    "    df_apriori = df_apriori.groupby(columns[0]).sum()\n",
    "    \n",
    "    for column in df_apriori.columns:\n",
    "        df_apriori.loc[ df_apriori[column] > 1 , column] = 1\n",
    "\n",
    "    return df_apriori\n",
    "\n",
    "def calculate_potential_transactions_in_rules(df_rules:pd.DataFrame, df_description:pd.DataFrame)->pd.DataFrame:\n",
    "\n",
    "    result = [] \n",
    "\n",
    "    for row in df_rules.itertuples():\n",
    "\n",
    "        a = row.antecedents\n",
    "        c = row.consequents\n",
    "        \n",
    "        true_ant = df_description[ df_description[a] == 1].dropna(subset=a).index.to_list()\n",
    "        false_con = df_description[df_description[c] == 0].dropna(subset=c).index.to_list()\n",
    "\n",
    "        potencial = df_description[df_description.index.isin(true_ant) & df_description.index.isin(false_con)].index.nunique()\n",
    "        tot_ant = df_description[df_description.index.isin(true_ant)].index.nunique()\n",
    "\n",
    "        result.append({'antecedents':a, 'consequents':c, 'potencial_transactions':potencial, 'total_antecedents': tot_ant })\n",
    "\n",
    "    return pd.DataFrame(result)\n",
    "\n",
    "def treat_string(values:str)->str:\n",
    "\n",
    "    values = values.replace(\"[\", \"{\")\n",
    "    values = values.replace(\"]\", \"}\")\n",
    "    values = values.replace(\"descrição_\", \"\")\n",
    "    values = values.replace(\"'\", \"\")\n",
    "    \n",
    "    return values"
   ]
  },
  {
   "cell_type": "markdown",
   "metadata": {},
   "source": [
    "# Table Review"
   ]
  },
  {
   "cell_type": "code",
   "execution_count": 5,
   "metadata": {},
   "outputs": [
    {
     "data": {
      "text/plain": [
       "['itemtransacao', 'itens', 'transacoes', 'itens Consulta']"
      ]
     },
     "execution_count": 5,
     "metadata": {},
     "output_type": "execute_result"
    }
   ],
   "source": [
    "db_path = 'C:/Users/annap/Documentos/codigos/teste_pratico_sicredi/data/compras2014.mdb'\n",
    "driver = 'Microsoft Access Driver (*.mdb, *.accdb)'\n",
    "\n",
    "conn = pyodbc.connect(f\"Driver={driver};DBQ={db_path};\")\n",
    "cursor = conn.cursor()\n",
    "\n",
    "table_names = get_tables_db(cursor)\n",
    "table_names"
   ]
  },
  {
   "cell_type": "markdown",
   "metadata": {},
   "source": [
    "## Itens\n",
    "\n",
    "Contém os itens disponíveis, sua descrição marca e tipo\n",
    "\n",
    "Total de itens únicos: 10"
   ]
  },
  {
   "cell_type": "code",
   "execution_count": 6,
   "metadata": {},
   "outputs": [
    {
     "name": "stdout",
     "output_type": "stream",
     "text": [
      "Shape:(10, 4)\n",
      "Duplicated lines:0\n"
     ]
    },
    {
     "data": {
      "text/html": [
       "<div>\n",
       "<style scoped>\n",
       "    .dataframe tbody tr th:only-of-type {\n",
       "        vertical-align: middle;\n",
       "    }\n",
       "\n",
       "    .dataframe tbody tr th {\n",
       "        vertical-align: top;\n",
       "    }\n",
       "\n",
       "    .dataframe thead th {\n",
       "        text-align: right;\n",
       "    }\n",
       "</style>\n",
       "<table border=\"1\" class=\"dataframe\">\n",
       "  <thead>\n",
       "    <tr style=\"text-align: right;\">\n",
       "      <th></th>\n",
       "      <th>codItem</th>\n",
       "      <th>descrição</th>\n",
       "      <th>marca</th>\n",
       "      <th>tipo</th>\n",
       "    </tr>\n",
       "  </thead>\n",
       "  <tbody>\n",
       "    <tr>\n",
       "      <th>0</th>\n",
       "      <td>1</td>\n",
       "      <td>banana prata</td>\n",
       "      <td>banana</td>\n",
       "      <td>fruta</td>\n",
       "    </tr>\n",
       "    <tr>\n",
       "      <th>1</th>\n",
       "      <td>2</td>\n",
       "      <td>banana caturra</td>\n",
       "      <td>banana</td>\n",
       "      <td>fruta</td>\n",
       "    </tr>\n",
       "    <tr>\n",
       "      <th>2</th>\n",
       "      <td>3</td>\n",
       "      <td>limao Taiti</td>\n",
       "      <td>limao</td>\n",
       "      <td>fruta</td>\n",
       "    </tr>\n",
       "    <tr>\n",
       "      <th>3</th>\n",
       "      <td>4</td>\n",
       "      <td>limão siciliano</td>\n",
       "      <td>limão</td>\n",
       "      <td>fruta</td>\n",
       "    </tr>\n",
       "    <tr>\n",
       "      <th>4</th>\n",
       "      <td>5</td>\n",
       "      <td>coca</td>\n",
       "      <td>coca</td>\n",
       "      <td>refrigerante</td>\n",
       "    </tr>\n",
       "  </tbody>\n",
       "</table>\n",
       "</div>"
      ],
      "text/plain": [
       "   codItem        descrição   marca          tipo\n",
       "0        1     banana prata  banana         fruta\n",
       "1        2   banana caturra  banana         fruta\n",
       "2        3      limao Taiti   limao         fruta\n",
       "3        4  limão siciliano   limão         fruta\n",
       "4        5             coca    coca  refrigerante"
      ]
     },
     "execution_count": 6,
     "metadata": {},
     "output_type": "execute_result"
    }
   ],
   "source": [
    "df_itens = get_data('itens', conn)\n",
    "print(f\"Shape:{df_itens.shape}\\nDuplicated lines:{df_itens.duplicated().sum()}\")\n",
    "df_itens.head()"
   ]
  },
  {
   "cell_type": "code",
   "execution_count": 7,
   "metadata": {},
   "outputs": [
    {
     "name": "stdout",
     "output_type": "stream",
     "text": [
      "col:codItem\n",
      "nulls:0, duplicated:0, nunique:10, values_uniques:[1, 2, 3, 4, 5, 6, 7, 10, 11, 12], value_min:1, value_max:12 \n",
      "\n"
     ]
    }
   ],
   "source": [
    "show_stats_numeric(df_itens)"
   ]
  },
  {
   "cell_type": "code",
   "execution_count": 8,
   "metadata": {},
   "outputs": [
    {
     "name": "stdout",
     "output_type": "stream",
     "text": [
      "col:descrição\n",
      "banana prata        1\n",
      "banana caturra      1\n",
      "limao Taiti         1\n",
      "limão siciliano     1\n",
      "coca                1\n",
      "coca light          1\n",
      "coca lemon light    1\n",
      "omo collors         1\n",
      "omo progress        1\n",
      "ariel total         1\n",
      "Name: descrição, dtype: int64\n",
      "col:marca\n",
      "coca      3\n",
      "banana    2\n",
      "omo       2\n",
      "limao     1\n",
      "limão     1\n",
      "ariel     1\n",
      "Name: marca, dtype: int64\n",
      "col:tipo\n",
      "fruta           4\n",
      "sabao em po     3\n",
      "refrigerante    2\n",
      "refirgerante    1\n",
      "Name: tipo, dtype: int64\n"
     ]
    }
   ],
   "source": [
    "show_stats_categorical(df_itens)"
   ]
  },
  {
   "cell_type": "code",
   "execution_count": 9,
   "metadata": {},
   "outputs": [
    {
     "data": {
      "text/html": [
       "<div>\n",
       "<style scoped>\n",
       "    .dataframe tbody tr th:only-of-type {\n",
       "        vertical-align: middle;\n",
       "    }\n",
       "\n",
       "    .dataframe tbody tr th {\n",
       "        vertical-align: top;\n",
       "    }\n",
       "\n",
       "    .dataframe thead th {\n",
       "        text-align: right;\n",
       "    }\n",
       "</style>\n",
       "<table border=\"1\" class=\"dataframe\">\n",
       "  <thead>\n",
       "    <tr style=\"text-align: right;\">\n",
       "      <th></th>\n",
       "      <th>codItem</th>\n",
       "      <th>descrição</th>\n",
       "      <th>marca</th>\n",
       "      <th>tipo</th>\n",
       "    </tr>\n",
       "  </thead>\n",
       "  <tbody>\n",
       "    <tr>\n",
       "      <th>2</th>\n",
       "      <td>3</td>\n",
       "      <td>limao Taiti</td>\n",
       "      <td>limao</td>\n",
       "      <td>fruta</td>\n",
       "    </tr>\n",
       "    <tr>\n",
       "      <th>3</th>\n",
       "      <td>4</td>\n",
       "      <td>limão siciliano</td>\n",
       "      <td>limão</td>\n",
       "      <td>fruta</td>\n",
       "    </tr>\n",
       "  </tbody>\n",
       "</table>\n",
       "</div>"
      ],
      "text/plain": [
       "   codItem        descrição  marca   tipo\n",
       "2        3      limao Taiti  limao  fruta\n",
       "3        4  limão siciliano  limão  fruta"
      ]
     },
     "execution_count": 9,
     "metadata": {},
     "output_type": "execute_result"
    }
   ],
   "source": [
    "df_itens[ df_itens['descrição'].str.contains(\"lim\") | df_itens['marca'].str.contains(\"lim\") ]"
   ]
  },
  {
   "cell_type": "code",
   "execution_count": 10,
   "metadata": {},
   "outputs": [
    {
     "data": {
      "text/html": [
       "<div>\n",
       "<style scoped>\n",
       "    .dataframe tbody tr th:only-of-type {\n",
       "        vertical-align: middle;\n",
       "    }\n",
       "\n",
       "    .dataframe tbody tr th {\n",
       "        vertical-align: top;\n",
       "    }\n",
       "\n",
       "    .dataframe thead th {\n",
       "        text-align: right;\n",
       "    }\n",
       "</style>\n",
       "<table border=\"1\" class=\"dataframe\">\n",
       "  <thead>\n",
       "    <tr style=\"text-align: right;\">\n",
       "      <th></th>\n",
       "      <th>codItem</th>\n",
       "      <th>descrição</th>\n",
       "      <th>marca</th>\n",
       "      <th>tipo</th>\n",
       "    </tr>\n",
       "  </thead>\n",
       "  <tbody>\n",
       "    <tr>\n",
       "      <th>4</th>\n",
       "      <td>5</td>\n",
       "      <td>coca</td>\n",
       "      <td>coca</td>\n",
       "      <td>refrigerante</td>\n",
       "    </tr>\n",
       "    <tr>\n",
       "      <th>5</th>\n",
       "      <td>6</td>\n",
       "      <td>coca light</td>\n",
       "      <td>coca</td>\n",
       "      <td>refrigerante</td>\n",
       "    </tr>\n",
       "    <tr>\n",
       "      <th>6</th>\n",
       "      <td>7</td>\n",
       "      <td>coca lemon light</td>\n",
       "      <td>coca</td>\n",
       "      <td>refirgerante</td>\n",
       "    </tr>\n",
       "  </tbody>\n",
       "</table>\n",
       "</div>"
      ],
      "text/plain": [
       "   codItem         descrição marca          tipo\n",
       "4        5              coca  coca  refrigerante\n",
       "5        6        coca light  coca  refrigerante\n",
       "6        7  coca lemon light  coca  refirgerante"
      ]
     },
     "execution_count": 10,
     "metadata": {},
     "output_type": "execute_result"
    }
   ],
   "source": [
    "df_itens[ df_itens['tipo'].str.contains(\"ref\") ]"
   ]
  },
  {
   "cell_type": "markdown",
   "metadata": {},
   "source": [
    "## Transactions\n",
    "\n",
    "Contém o valor total e o tipo de pagamento.\n",
    "\n",
    "Representa o volume de transações feitas: 34\n"
   ]
  },
  {
   "cell_type": "code",
   "execution_count": 11,
   "metadata": {},
   "outputs": [
    {
     "name": "stdout",
     "output_type": "stream",
     "text": [
      "Shape:(34, 3)\n",
      "Duplicated lines:0\n"
     ]
    },
    {
     "data": {
      "text/html": [
       "<div>\n",
       "<style scoped>\n",
       "    .dataframe tbody tr th:only-of-type {\n",
       "        vertical-align: middle;\n",
       "    }\n",
       "\n",
       "    .dataframe tbody tr th {\n",
       "        vertical-align: top;\n",
       "    }\n",
       "\n",
       "    .dataframe thead th {\n",
       "        text-align: right;\n",
       "    }\n",
       "</style>\n",
       "<table border=\"1\" class=\"dataframe\">\n",
       "  <thead>\n",
       "    <tr style=\"text-align: right;\">\n",
       "      <th></th>\n",
       "      <th>IDTransação</th>\n",
       "      <th>valorTotal</th>\n",
       "      <th>tipo pagamento</th>\n",
       "    </tr>\n",
       "  </thead>\n",
       "  <tbody>\n",
       "    <tr>\n",
       "      <th>0</th>\n",
       "      <td>1</td>\n",
       "      <td>15</td>\n",
       "      <td>ch</td>\n",
       "    </tr>\n",
       "    <tr>\n",
       "      <th>1</th>\n",
       "      <td>2</td>\n",
       "      <td>20</td>\n",
       "      <td>ch</td>\n",
       "    </tr>\n",
       "    <tr>\n",
       "      <th>2</th>\n",
       "      <td>3</td>\n",
       "      <td>14</td>\n",
       "      <td>es</td>\n",
       "    </tr>\n",
       "    <tr>\n",
       "      <th>3</th>\n",
       "      <td>4</td>\n",
       "      <td>19</td>\n",
       "      <td>ch</td>\n",
       "    </tr>\n",
       "    <tr>\n",
       "      <th>4</th>\n",
       "      <td>5</td>\n",
       "      <td>15</td>\n",
       "      <td>es</td>\n",
       "    </tr>\n",
       "  </tbody>\n",
       "</table>\n",
       "</div>"
      ],
      "text/plain": [
       "   IDTransação  valorTotal tipo pagamento\n",
       "0            1          15             ch\n",
       "1            2          20             ch\n",
       "2            3          14             es\n",
       "3            4          19             ch\n",
       "4            5          15             es"
      ]
     },
     "execution_count": 11,
     "metadata": {},
     "output_type": "execute_result"
    }
   ],
   "source": [
    "df_transactions = get_data('transacoes', conn)\n",
    "print(f\"Shape:{df_transactions.shape}\\nDuplicated lines:{df_transactions.duplicated().sum()}\")\n",
    "df_transactions.head()"
   ]
  },
  {
   "cell_type": "code",
   "execution_count": 12,
   "metadata": {},
   "outputs": [
    {
     "name": "stdout",
     "output_type": "stream",
     "text": [
      "col:IDTransação\n",
      "nulls:0, duplicated:0, nunique:34, values_uniques:[1, 2, 3, 4, 5, 6, 7, 8, 9, 10, 11, 12, 14, 15, 16, 17, 18, 19, 20, 21, 22, 23, 24, 25, 26, 27, 28, 29, 30, 31, 32, 33, 34, 35], value_min:1, value_max:35 \n",
      "\n",
      "col:valorTotal\n",
      "nulls:0, duplicated:21, nunique:13, values_uniques:[10, 11, 12, 14, 15, 16, 17, 18, 19, 20, 21, 24, 30], value_min:10, value_max:30 \n",
      "\n",
      "col:tipo pagamento\n",
      "es    17\n",
      "ch    10\n",
      "cc     7\n",
      "Name: tipo pagamento, dtype: int64\n"
     ]
    }
   ],
   "source": [
    "show_stats_numeric(df_transactions)\n",
    "show_stats_categorical(df_transactions)"
   ]
  },
  {
   "cell_type": "markdown",
   "metadata": {},
   "source": [
    "## Item Transaction\n",
    "\n",
    "Contém o id da transação e os itens de cada transação.\n",
    "\n",
    "Transações únicas e ids únicos: (27, 10)"
   ]
  },
  {
   "cell_type": "code",
   "execution_count": 13,
   "metadata": {},
   "outputs": [
    {
     "name": "stdout",
     "output_type": "stream",
     "text": [
      "Shape:(85, 2)\n",
      "Duplicated lines:0\n"
     ]
    },
    {
     "data": {
      "text/html": [
       "<div>\n",
       "<style scoped>\n",
       "    .dataframe tbody tr th:only-of-type {\n",
       "        vertical-align: middle;\n",
       "    }\n",
       "\n",
       "    .dataframe tbody tr th {\n",
       "        vertical-align: top;\n",
       "    }\n",
       "\n",
       "    .dataframe thead th {\n",
       "        text-align: right;\n",
       "    }\n",
       "</style>\n",
       "<table border=\"1\" class=\"dataframe\">\n",
       "  <thead>\n",
       "    <tr style=\"text-align: right;\">\n",
       "      <th></th>\n",
       "      <th>IDTransação</th>\n",
       "      <th>item</th>\n",
       "    </tr>\n",
       "  </thead>\n",
       "  <tbody>\n",
       "    <tr>\n",
       "      <th>0</th>\n",
       "      <td>14</td>\n",
       "      <td>1</td>\n",
       "    </tr>\n",
       "    <tr>\n",
       "      <th>1</th>\n",
       "      <td>14</td>\n",
       "      <td>3</td>\n",
       "    </tr>\n",
       "    <tr>\n",
       "      <th>2</th>\n",
       "      <td>14</td>\n",
       "      <td>6</td>\n",
       "    </tr>\n",
       "    <tr>\n",
       "      <th>3</th>\n",
       "      <td>15</td>\n",
       "      <td>1</td>\n",
       "    </tr>\n",
       "    <tr>\n",
       "      <th>4</th>\n",
       "      <td>15</td>\n",
       "      <td>3</td>\n",
       "    </tr>\n",
       "  </tbody>\n",
       "</table>\n",
       "</div>"
      ],
      "text/plain": [
       "   IDTransação  item\n",
       "0           14     1\n",
       "1           14     3\n",
       "2           14     6\n",
       "3           15     1\n",
       "4           15     3"
      ]
     },
     "execution_count": 13,
     "metadata": {},
     "output_type": "execute_result"
    }
   ],
   "source": [
    "df_item_transaction = get_data('itemtransacao', conn)\n",
    "print(f\"Shape:{df_item_transaction.shape}\\nDuplicated lines:{df_item_transaction.duplicated().sum()}\")\n",
    "df_item_transaction.head()"
   ]
  },
  {
   "cell_type": "code",
   "execution_count": 14,
   "metadata": {},
   "outputs": [
    {
     "name": "stdout",
     "output_type": "stream",
     "text": [
      "col:IDTransação\n",
      "nulls:0, duplicated:58, nunique:27, values_uniques:[1, 2, 3, 5, 6, 14, 15, 16, 17, 18, 19, 20, 21, 22, 23, 24, 25, 26, 27, 28, 29, 30, 31, 32, 33, 34, 35], value_min:1, value_max:35 \n",
      "\n",
      "col:item\n",
      "nulls:0, duplicated:75, nunique:10, values_uniques:[1, 2, 3, 4, 5, 6, 7, 10, 11, 12], value_min:1, value_max:12 \n",
      "\n"
     ]
    }
   ],
   "source": [
    "show_stats_numeric(df_item_transaction)\n",
    "show_stats_categorical(df_item_transaction)"
   ]
  },
  {
   "cell_type": "code",
   "execution_count": 15,
   "metadata": {},
   "outputs": [
    {
     "data": {
      "text/html": [
       "<div>\n",
       "<style scoped>\n",
       "    .dataframe tbody tr th:only-of-type {\n",
       "        vertical-align: middle;\n",
       "    }\n",
       "\n",
       "    .dataframe tbody tr th {\n",
       "        vertical-align: top;\n",
       "    }\n",
       "\n",
       "    .dataframe thead th {\n",
       "        text-align: right;\n",
       "    }\n",
       "</style>\n",
       "<table border=\"1\" class=\"dataframe\">\n",
       "  <thead>\n",
       "    <tr style=\"text-align: right;\">\n",
       "      <th></th>\n",
       "      <th>item</th>\n",
       "      <th>quantidade_de_saida</th>\n",
       "      <th>porcentagem</th>\n",
       "    </tr>\n",
       "  </thead>\n",
       "  <tbody>\n",
       "    <tr>\n",
       "      <th>0</th>\n",
       "      <td>1</td>\n",
       "      <td>12</td>\n",
       "      <td>44.444444</td>\n",
       "    </tr>\n",
       "    <tr>\n",
       "      <th>1</th>\n",
       "      <td>6</td>\n",
       "      <td>12</td>\n",
       "      <td>44.444444</td>\n",
       "    </tr>\n",
       "    <tr>\n",
       "      <th>2</th>\n",
       "      <td>2</td>\n",
       "      <td>10</td>\n",
       "      <td>37.037037</td>\n",
       "    </tr>\n",
       "    <tr>\n",
       "      <th>3</th>\n",
       "      <td>3</td>\n",
       "      <td>9</td>\n",
       "      <td>33.333333</td>\n",
       "    </tr>\n",
       "    <tr>\n",
       "      <th>4</th>\n",
       "      <td>4</td>\n",
       "      <td>9</td>\n",
       "      <td>33.333333</td>\n",
       "    </tr>\n",
       "    <tr>\n",
       "      <th>5</th>\n",
       "      <td>10</td>\n",
       "      <td>8</td>\n",
       "      <td>29.629630</td>\n",
       "    </tr>\n",
       "    <tr>\n",
       "      <th>6</th>\n",
       "      <td>12</td>\n",
       "      <td>8</td>\n",
       "      <td>29.629630</td>\n",
       "    </tr>\n",
       "    <tr>\n",
       "      <th>7</th>\n",
       "      <td>7</td>\n",
       "      <td>6</td>\n",
       "      <td>22.222222</td>\n",
       "    </tr>\n",
       "    <tr>\n",
       "      <th>8</th>\n",
       "      <td>11</td>\n",
       "      <td>6</td>\n",
       "      <td>22.222222</td>\n",
       "    </tr>\n",
       "    <tr>\n",
       "      <th>9</th>\n",
       "      <td>5</td>\n",
       "      <td>5</td>\n",
       "      <td>18.518519</td>\n",
       "    </tr>\n",
       "  </tbody>\n",
       "</table>\n",
       "</div>"
      ],
      "text/plain": [
       "   item  quantidade_de_saida  porcentagem\n",
       "0     1                   12    44.444444\n",
       "1     6                   12    44.444444\n",
       "2     2                   10    37.037037\n",
       "3     3                    9    33.333333\n",
       "4     4                    9    33.333333\n",
       "5    10                    8    29.629630\n",
       "6    12                    8    29.629630\n",
       "7     7                    6    22.222222\n",
       "8    11                    6    22.222222\n",
       "9     5                    5    18.518519"
      ]
     },
     "execution_count": 15,
     "metadata": {},
     "output_type": "execute_result"
    }
   ],
   "source": [
    "aux_supp = df_item_transaction.groupby(\"item\")['IDTransação'].count().sort_values(ascending=False).reset_index(name='quantidade_de_saida')\n",
    "aux_supp['porcentagem'] = ( aux_supp['quantidade_de_saida'] / df_item_transaction.IDTransação.nunique() ) * 100\n",
    "aux_supp"
   ]
  },
  {
   "cell_type": "code",
   "execution_count": 16,
   "metadata": {},
   "outputs": [
    {
     "data": {
      "text/plain": [
       "31.481481481481477"
      ]
     },
     "execution_count": 16,
     "metadata": {},
     "output_type": "execute_result"
    }
   ],
   "source": [
    "aux_supp.quantile(q=0.5, interpolation='linear', method='single')['porcentagem']"
   ]
  },
  {
   "cell_type": "markdown",
   "metadata": {},
   "source": [
    "## Consultas"
   ]
  },
  {
   "cell_type": "code",
   "execution_count": 17,
   "metadata": {},
   "outputs": [
    {
     "name": "stdout",
     "output_type": "stream",
     "text": [
      "Shape:(10, 4)\n",
      "Duplicated lines:0\n"
     ]
    },
    {
     "data": {
      "text/html": [
       "<div>\n",
       "<style scoped>\n",
       "    .dataframe tbody tr th:only-of-type {\n",
       "        vertical-align: middle;\n",
       "    }\n",
       "\n",
       "    .dataframe tbody tr th {\n",
       "        vertical-align: top;\n",
       "    }\n",
       "\n",
       "    .dataframe thead th {\n",
       "        text-align: right;\n",
       "    }\n",
       "</style>\n",
       "<table border=\"1\" class=\"dataframe\">\n",
       "  <thead>\n",
       "    <tr style=\"text-align: right;\">\n",
       "      <th></th>\n",
       "      <th>codItem</th>\n",
       "      <th>descrição</th>\n",
       "      <th>marca</th>\n",
       "      <th>tipo</th>\n",
       "    </tr>\n",
       "  </thead>\n",
       "  <tbody>\n",
       "    <tr>\n",
       "      <th>0</th>\n",
       "      <td>1</td>\n",
       "      <td>banana prata</td>\n",
       "      <td>banana</td>\n",
       "      <td>fruta</td>\n",
       "    </tr>\n",
       "    <tr>\n",
       "      <th>1</th>\n",
       "      <td>2</td>\n",
       "      <td>banana caturra</td>\n",
       "      <td>banana</td>\n",
       "      <td>fruta</td>\n",
       "    </tr>\n",
       "    <tr>\n",
       "      <th>2</th>\n",
       "      <td>3</td>\n",
       "      <td>limao Taiti</td>\n",
       "      <td>limao</td>\n",
       "      <td>fruta</td>\n",
       "    </tr>\n",
       "    <tr>\n",
       "      <th>3</th>\n",
       "      <td>4</td>\n",
       "      <td>limão siciliano</td>\n",
       "      <td>limão</td>\n",
       "      <td>fruta</td>\n",
       "    </tr>\n",
       "    <tr>\n",
       "      <th>4</th>\n",
       "      <td>5</td>\n",
       "      <td>coca</td>\n",
       "      <td>coca</td>\n",
       "      <td>refrigerante</td>\n",
       "    </tr>\n",
       "  </tbody>\n",
       "</table>\n",
       "</div>"
      ],
      "text/plain": [
       "   codItem        descrição   marca          tipo\n",
       "0        1     banana prata  banana         fruta\n",
       "1        2   banana caturra  banana         fruta\n",
       "2        3      limao Taiti   limao         fruta\n",
       "3        4  limão siciliano   limão         fruta\n",
       "4        5             coca    coca  refrigerante"
      ]
     },
     "execution_count": 17,
     "metadata": {},
     "output_type": "execute_result"
    }
   ],
   "source": [
    "df_consultas = get_data('itens Consulta', conn)\n",
    "print(f\"Shape:{df_consultas.shape}\\nDuplicated lines:{df_consultas.duplicated().sum()}\")\n",
    "df_consultas.head()"
   ]
  },
  {
   "cell_type": "code",
   "execution_count": 18,
   "metadata": {},
   "outputs": [
    {
     "name": "stdout",
     "output_type": "stream",
     "text": [
      "col:codItem\n",
      "nulls:0, duplicated:0, nunique:10, values_uniques:[1, 2, 3, 4, 5, 6, 7, 10, 11, 12], value_min:1, value_max:12 \n",
      "\n",
      "col:descrição\n",
      "banana prata        1\n",
      "banana caturra      1\n",
      "limao Taiti         1\n",
      "limão siciliano     1\n",
      "coca                1\n",
      "coca light          1\n",
      "coca lemon light    1\n",
      "omo collors         1\n",
      "omo progress        1\n",
      "ariel total         1\n",
      "Name: descrição, dtype: int64\n",
      "col:marca\n",
      "coca      3\n",
      "banana    2\n",
      "omo       2\n",
      "limao     1\n",
      "limão     1\n",
      "ariel     1\n",
      "Name: marca, dtype: int64\n",
      "col:tipo\n",
      "fruta           4\n",
      "sabao em po     3\n",
      "refrigerante    2\n",
      "refirgerante    1\n",
      "Name: tipo, dtype: int64\n"
     ]
    }
   ],
   "source": [
    "show_stats_numeric(df_consultas)\n",
    "show_stats_categorical(df_consultas)"
   ]
  },
  {
   "cell_type": "markdown",
   "metadata": {},
   "source": [
    "## Valid Consultas e Itens\n",
    "\n",
    "O objetivo é validar se a tabela itens e consultas são iguais"
   ]
  },
  {
   "cell_type": "code",
   "execution_count": 19,
   "metadata": {},
   "outputs": [],
   "source": [
    "assert df_consultas.codItem.nunique() == df_itens.codItem.nunique(), \"A quantidade de intens únicos nas tabelas são diferentes.\""
   ]
  },
  {
   "cell_type": "code",
   "execution_count": 20,
   "metadata": {},
   "outputs": [
    {
     "data": {
      "text/html": [
       "<div>\n",
       "<style scoped>\n",
       "    .dataframe tbody tr th:only-of-type {\n",
       "        vertical-align: middle;\n",
       "    }\n",
       "\n",
       "    .dataframe tbody tr th {\n",
       "        vertical-align: top;\n",
       "    }\n",
       "\n",
       "    .dataframe thead th {\n",
       "        text-align: right;\n",
       "    }\n",
       "</style>\n",
       "<table border=\"1\" class=\"dataframe\">\n",
       "  <thead>\n",
       "    <tr style=\"text-align: right;\">\n",
       "      <th></th>\n",
       "      <th>codItem</th>\n",
       "      <th>descrição</th>\n",
       "      <th>marca</th>\n",
       "      <th>tipo</th>\n",
       "    </tr>\n",
       "  </thead>\n",
       "  <tbody>\n",
       "    <tr>\n",
       "      <th>0</th>\n",
       "      <td>1</td>\n",
       "      <td>banana prata</td>\n",
       "      <td>banana</td>\n",
       "      <td>fruta</td>\n",
       "    </tr>\n",
       "    <tr>\n",
       "      <th>1</th>\n",
       "      <td>2</td>\n",
       "      <td>banana caturra</td>\n",
       "      <td>banana</td>\n",
       "      <td>fruta</td>\n",
       "    </tr>\n",
       "    <tr>\n",
       "      <th>2</th>\n",
       "      <td>3</td>\n",
       "      <td>limao Taiti</td>\n",
       "      <td>limao</td>\n",
       "      <td>fruta</td>\n",
       "    </tr>\n",
       "    <tr>\n",
       "      <th>3</th>\n",
       "      <td>4</td>\n",
       "      <td>limão siciliano</td>\n",
       "      <td>limão</td>\n",
       "      <td>fruta</td>\n",
       "    </tr>\n",
       "    <tr>\n",
       "      <th>4</th>\n",
       "      <td>5</td>\n",
       "      <td>coca</td>\n",
       "      <td>coca</td>\n",
       "      <td>refrigerante</td>\n",
       "    </tr>\n",
       "    <tr>\n",
       "      <th>5</th>\n",
       "      <td>6</td>\n",
       "      <td>coca light</td>\n",
       "      <td>coca</td>\n",
       "      <td>refrigerante</td>\n",
       "    </tr>\n",
       "    <tr>\n",
       "      <th>6</th>\n",
       "      <td>7</td>\n",
       "      <td>coca lemon light</td>\n",
       "      <td>coca</td>\n",
       "      <td>refirgerante</td>\n",
       "    </tr>\n",
       "    <tr>\n",
       "      <th>7</th>\n",
       "      <td>10</td>\n",
       "      <td>omo collors</td>\n",
       "      <td>omo</td>\n",
       "      <td>sabao em po</td>\n",
       "    </tr>\n",
       "    <tr>\n",
       "      <th>8</th>\n",
       "      <td>11</td>\n",
       "      <td>omo progress</td>\n",
       "      <td>omo</td>\n",
       "      <td>sabao em po</td>\n",
       "    </tr>\n",
       "    <tr>\n",
       "      <th>9</th>\n",
       "      <td>12</td>\n",
       "      <td>ariel total</td>\n",
       "      <td>ariel</td>\n",
       "      <td>sabao em po</td>\n",
       "    </tr>\n",
       "  </tbody>\n",
       "</table>\n",
       "</div>"
      ],
      "text/plain": [
       "   codItem         descrição   marca          tipo\n",
       "0        1      banana prata  banana         fruta\n",
       "1        2    banana caturra  banana         fruta\n",
       "2        3       limao Taiti   limao         fruta\n",
       "3        4   limão siciliano   limão         fruta\n",
       "4        5              coca    coca  refrigerante\n",
       "5        6        coca light    coca  refrigerante\n",
       "6        7  coca lemon light    coca  refirgerante\n",
       "7       10       omo collors     omo   sabao em po\n",
       "8       11      omo progress     omo   sabao em po\n",
       "9       12       ariel total   ariel   sabao em po"
      ]
     },
     "execution_count": 20,
     "metadata": {},
     "output_type": "execute_result"
    }
   ],
   "source": [
    "df_consultas[ df_consultas.codItem.isin(df_itens.codItem.unique())]"
   ]
  },
  {
   "cell_type": "code",
   "execution_count": 21,
   "metadata": {},
   "outputs": [
    {
     "data": {
      "text/html": [
       "<div>\n",
       "<style scoped>\n",
       "    .dataframe tbody tr th:only-of-type {\n",
       "        vertical-align: middle;\n",
       "    }\n",
       "\n",
       "    .dataframe tbody tr th {\n",
       "        vertical-align: top;\n",
       "    }\n",
       "\n",
       "    .dataframe thead th {\n",
       "        text-align: right;\n",
       "    }\n",
       "</style>\n",
       "<table border=\"1\" class=\"dataframe\">\n",
       "  <thead>\n",
       "    <tr style=\"text-align: right;\">\n",
       "      <th></th>\n",
       "      <th>codItem</th>\n",
       "      <th>descrição</th>\n",
       "      <th>marca</th>\n",
       "      <th>tipo</th>\n",
       "    </tr>\n",
       "  </thead>\n",
       "  <tbody>\n",
       "    <tr>\n",
       "      <th>0</th>\n",
       "      <td>1</td>\n",
       "      <td>banana prata</td>\n",
       "      <td>banana</td>\n",
       "      <td>fruta</td>\n",
       "    </tr>\n",
       "    <tr>\n",
       "      <th>1</th>\n",
       "      <td>2</td>\n",
       "      <td>banana caturra</td>\n",
       "      <td>banana</td>\n",
       "      <td>fruta</td>\n",
       "    </tr>\n",
       "    <tr>\n",
       "      <th>2</th>\n",
       "      <td>3</td>\n",
       "      <td>limao Taiti</td>\n",
       "      <td>limao</td>\n",
       "      <td>fruta</td>\n",
       "    </tr>\n",
       "    <tr>\n",
       "      <th>3</th>\n",
       "      <td>4</td>\n",
       "      <td>limão siciliano</td>\n",
       "      <td>limão</td>\n",
       "      <td>fruta</td>\n",
       "    </tr>\n",
       "    <tr>\n",
       "      <th>4</th>\n",
       "      <td>5</td>\n",
       "      <td>coca</td>\n",
       "      <td>coca</td>\n",
       "      <td>refrigerante</td>\n",
       "    </tr>\n",
       "    <tr>\n",
       "      <th>5</th>\n",
       "      <td>6</td>\n",
       "      <td>coca light</td>\n",
       "      <td>coca</td>\n",
       "      <td>refrigerante</td>\n",
       "    </tr>\n",
       "    <tr>\n",
       "      <th>6</th>\n",
       "      <td>7</td>\n",
       "      <td>coca lemon light</td>\n",
       "      <td>coca</td>\n",
       "      <td>refirgerante</td>\n",
       "    </tr>\n",
       "    <tr>\n",
       "      <th>7</th>\n",
       "      <td>10</td>\n",
       "      <td>omo collors</td>\n",
       "      <td>omo</td>\n",
       "      <td>sabao em po</td>\n",
       "    </tr>\n",
       "    <tr>\n",
       "      <th>8</th>\n",
       "      <td>11</td>\n",
       "      <td>omo progress</td>\n",
       "      <td>omo</td>\n",
       "      <td>sabao em po</td>\n",
       "    </tr>\n",
       "    <tr>\n",
       "      <th>9</th>\n",
       "      <td>12</td>\n",
       "      <td>ariel total</td>\n",
       "      <td>ariel</td>\n",
       "      <td>sabao em po</td>\n",
       "    </tr>\n",
       "  </tbody>\n",
       "</table>\n",
       "</div>"
      ],
      "text/plain": [
       "   codItem         descrição   marca          tipo\n",
       "0        1      banana prata  banana         fruta\n",
       "1        2    banana caturra  banana         fruta\n",
       "2        3       limao Taiti   limao         fruta\n",
       "3        4   limão siciliano   limão         fruta\n",
       "4        5              coca    coca  refrigerante\n",
       "5        6        coca light    coca  refrigerante\n",
       "6        7  coca lemon light    coca  refirgerante\n",
       "7       10       omo collors     omo   sabao em po\n",
       "8       11      omo progress     omo   sabao em po\n",
       "9       12       ariel total   ariel   sabao em po"
      ]
     },
     "execution_count": 21,
     "metadata": {},
     "output_type": "execute_result"
    }
   ],
   "source": [
    "df_itens[ df_itens.codItem.isin(df_consultas.codItem.unique())]"
   ]
  },
  {
   "cell_type": "code",
   "execution_count": 22,
   "metadata": {},
   "outputs": [
    {
     "data": {
      "text/html": [
       "<div>\n",
       "<style scoped>\n",
       "    .dataframe tbody tr th:only-of-type {\n",
       "        vertical-align: middle;\n",
       "    }\n",
       "\n",
       "    .dataframe tbody tr th {\n",
       "        vertical-align: top;\n",
       "    }\n",
       "\n",
       "    .dataframe thead th {\n",
       "        text-align: right;\n",
       "    }\n",
       "</style>\n",
       "<table border=\"1\" class=\"dataframe\">\n",
       "  <thead>\n",
       "    <tr style=\"text-align: right;\">\n",
       "      <th></th>\n",
       "      <th>codItem</th>\n",
       "      <th>descrição_it</th>\n",
       "      <th>marca_it</th>\n",
       "      <th>tipo_it</th>\n",
       "      <th>descrição_con</th>\n",
       "      <th>marca_con</th>\n",
       "      <th>tipo_con</th>\n",
       "    </tr>\n",
       "  </thead>\n",
       "  <tbody>\n",
       "    <tr>\n",
       "      <th>0</th>\n",
       "      <td>1</td>\n",
       "      <td>banana prata</td>\n",
       "      <td>banana</td>\n",
       "      <td>fruta</td>\n",
       "      <td>banana prata</td>\n",
       "      <td>banana</td>\n",
       "      <td>fruta</td>\n",
       "    </tr>\n",
       "    <tr>\n",
       "      <th>1</th>\n",
       "      <td>2</td>\n",
       "      <td>banana caturra</td>\n",
       "      <td>banana</td>\n",
       "      <td>fruta</td>\n",
       "      <td>banana caturra</td>\n",
       "      <td>banana</td>\n",
       "      <td>fruta</td>\n",
       "    </tr>\n",
       "    <tr>\n",
       "      <th>2</th>\n",
       "      <td>3</td>\n",
       "      <td>limao Taiti</td>\n",
       "      <td>limao</td>\n",
       "      <td>fruta</td>\n",
       "      <td>limao Taiti</td>\n",
       "      <td>limao</td>\n",
       "      <td>fruta</td>\n",
       "    </tr>\n",
       "    <tr>\n",
       "      <th>3</th>\n",
       "      <td>4</td>\n",
       "      <td>limão siciliano</td>\n",
       "      <td>limão</td>\n",
       "      <td>fruta</td>\n",
       "      <td>limão siciliano</td>\n",
       "      <td>limão</td>\n",
       "      <td>fruta</td>\n",
       "    </tr>\n",
       "    <tr>\n",
       "      <th>4</th>\n",
       "      <td>5</td>\n",
       "      <td>coca</td>\n",
       "      <td>coca</td>\n",
       "      <td>refrigerante</td>\n",
       "      <td>coca</td>\n",
       "      <td>coca</td>\n",
       "      <td>refrigerante</td>\n",
       "    </tr>\n",
       "    <tr>\n",
       "      <th>5</th>\n",
       "      <td>6</td>\n",
       "      <td>coca light</td>\n",
       "      <td>coca</td>\n",
       "      <td>refrigerante</td>\n",
       "      <td>coca light</td>\n",
       "      <td>coca</td>\n",
       "      <td>refrigerante</td>\n",
       "    </tr>\n",
       "    <tr>\n",
       "      <th>6</th>\n",
       "      <td>7</td>\n",
       "      <td>coca lemon light</td>\n",
       "      <td>coca</td>\n",
       "      <td>refirgerante</td>\n",
       "      <td>coca lemon light</td>\n",
       "      <td>coca</td>\n",
       "      <td>refirgerante</td>\n",
       "    </tr>\n",
       "    <tr>\n",
       "      <th>7</th>\n",
       "      <td>10</td>\n",
       "      <td>omo collors</td>\n",
       "      <td>omo</td>\n",
       "      <td>sabao em po</td>\n",
       "      <td>omo collors</td>\n",
       "      <td>omo</td>\n",
       "      <td>sabao em po</td>\n",
       "    </tr>\n",
       "    <tr>\n",
       "      <th>8</th>\n",
       "      <td>11</td>\n",
       "      <td>omo progress</td>\n",
       "      <td>omo</td>\n",
       "      <td>sabao em po</td>\n",
       "      <td>omo progress</td>\n",
       "      <td>omo</td>\n",
       "      <td>sabao em po</td>\n",
       "    </tr>\n",
       "    <tr>\n",
       "      <th>9</th>\n",
       "      <td>12</td>\n",
       "      <td>ariel total</td>\n",
       "      <td>ariel</td>\n",
       "      <td>sabao em po</td>\n",
       "      <td>ariel total</td>\n",
       "      <td>ariel</td>\n",
       "      <td>sabao em po</td>\n",
       "    </tr>\n",
       "  </tbody>\n",
       "</table>\n",
       "</div>"
      ],
      "text/plain": [
       "   codItem      descrição_it marca_it       tipo_it     descrição_con  \\\n",
       "0        1      banana prata   banana         fruta      banana prata   \n",
       "1        2    banana caturra   banana         fruta    banana caturra   \n",
       "2        3       limao Taiti    limao         fruta       limao Taiti   \n",
       "3        4   limão siciliano    limão         fruta   limão siciliano   \n",
       "4        5              coca     coca  refrigerante              coca   \n",
       "5        6        coca light     coca  refrigerante        coca light   \n",
       "6        7  coca lemon light     coca  refirgerante  coca lemon light   \n",
       "7       10       omo collors      omo   sabao em po       omo collors   \n",
       "8       11      omo progress      omo   sabao em po      omo progress   \n",
       "9       12       ariel total    ariel   sabao em po       ariel total   \n",
       "\n",
       "  marca_con      tipo_con  \n",
       "0    banana         fruta  \n",
       "1    banana         fruta  \n",
       "2     limao         fruta  \n",
       "3     limão         fruta  \n",
       "4      coca  refrigerante  \n",
       "5      coca  refrigerante  \n",
       "6      coca  refirgerante  \n",
       "7       omo   sabao em po  \n",
       "8       omo   sabao em po  \n",
       "9     ariel   sabao em po  "
      ]
     },
     "execution_count": 22,
     "metadata": {},
     "output_type": "execute_result"
    }
   ],
   "source": [
    "valid = pd.merge(df_itens, df_consultas, on='codItem', suffixes=['_it','_con'])\n",
    "valid"
   ]
  },
  {
   "cell_type": "code",
   "execution_count": 23,
   "metadata": {},
   "outputs": [
    {
     "data": {
      "text/html": [
       "<div>\n",
       "<style scoped>\n",
       "    .dataframe tbody tr th:only-of-type {\n",
       "        vertical-align: middle;\n",
       "    }\n",
       "\n",
       "    .dataframe tbody tr th {\n",
       "        vertical-align: top;\n",
       "    }\n",
       "\n",
       "    .dataframe thead th {\n",
       "        text-align: right;\n",
       "    }\n",
       "</style>\n",
       "<table border=\"1\" class=\"dataframe\">\n",
       "  <thead>\n",
       "    <tr style=\"text-align: right;\">\n",
       "      <th></th>\n",
       "      <th>codItem</th>\n",
       "      <th>descrição_it</th>\n",
       "      <th>marca_it</th>\n",
       "      <th>tipo_it</th>\n",
       "      <th>descrição_con</th>\n",
       "      <th>marca_con</th>\n",
       "      <th>tipo_con</th>\n",
       "    </tr>\n",
       "  </thead>\n",
       "  <tbody>\n",
       "  </tbody>\n",
       "</table>\n",
       "</div>"
      ],
      "text/plain": [
       "Empty DataFrame\n",
       "Columns: [codItem, descrição_it, marca_it, tipo_it, descrição_con, marca_con, tipo_con]\n",
       "Index: []"
      ]
     },
     "execution_count": 23,
     "metadata": {},
     "output_type": "execute_result"
    }
   ],
   "source": [
    "valid[valid['descrição_con'] != valid['descrição_it']]"
   ]
  },
  {
   "cell_type": "code",
   "execution_count": 24,
   "metadata": {},
   "outputs": [
    {
     "data": {
      "text/html": [
       "<div>\n",
       "<style scoped>\n",
       "    .dataframe tbody tr th:only-of-type {\n",
       "        vertical-align: middle;\n",
       "    }\n",
       "\n",
       "    .dataframe tbody tr th {\n",
       "        vertical-align: top;\n",
       "    }\n",
       "\n",
       "    .dataframe thead th {\n",
       "        text-align: right;\n",
       "    }\n",
       "</style>\n",
       "<table border=\"1\" class=\"dataframe\">\n",
       "  <thead>\n",
       "    <tr style=\"text-align: right;\">\n",
       "      <th></th>\n",
       "      <th>codItem</th>\n",
       "      <th>descrição_it</th>\n",
       "      <th>marca_it</th>\n",
       "      <th>tipo_it</th>\n",
       "      <th>descrição_con</th>\n",
       "      <th>marca_con</th>\n",
       "      <th>tipo_con</th>\n",
       "    </tr>\n",
       "  </thead>\n",
       "  <tbody>\n",
       "  </tbody>\n",
       "</table>\n",
       "</div>"
      ],
      "text/plain": [
       "Empty DataFrame\n",
       "Columns: [codItem, descrição_it, marca_it, tipo_it, descrição_con, marca_con, tipo_con]\n",
       "Index: []"
      ]
     },
     "execution_count": 24,
     "metadata": {},
     "output_type": "execute_result"
    }
   ],
   "source": [
    "valid[valid['marca_con'] != valid['marca_it']]"
   ]
  },
  {
   "cell_type": "code",
   "execution_count": 25,
   "metadata": {},
   "outputs": [
    {
     "data": {
      "text/html": [
       "<div>\n",
       "<style scoped>\n",
       "    .dataframe tbody tr th:only-of-type {\n",
       "        vertical-align: middle;\n",
       "    }\n",
       "\n",
       "    .dataframe tbody tr th {\n",
       "        vertical-align: top;\n",
       "    }\n",
       "\n",
       "    .dataframe thead th {\n",
       "        text-align: right;\n",
       "    }\n",
       "</style>\n",
       "<table border=\"1\" class=\"dataframe\">\n",
       "  <thead>\n",
       "    <tr style=\"text-align: right;\">\n",
       "      <th></th>\n",
       "      <th>codItem</th>\n",
       "      <th>descrição_it</th>\n",
       "      <th>marca_it</th>\n",
       "      <th>tipo_it</th>\n",
       "      <th>descrição_con</th>\n",
       "      <th>marca_con</th>\n",
       "      <th>tipo_con</th>\n",
       "    </tr>\n",
       "  </thead>\n",
       "  <tbody>\n",
       "  </tbody>\n",
       "</table>\n",
       "</div>"
      ],
      "text/plain": [
       "Empty DataFrame\n",
       "Columns: [codItem, descrição_it, marca_it, tipo_it, descrição_con, marca_con, tipo_con]\n",
       "Index: []"
      ]
     },
     "execution_count": 25,
     "metadata": {},
     "output_type": "execute_result"
    }
   ],
   "source": [
    "valid[valid['tipo_con'] != valid['tipo_it']]"
   ]
  },
  {
   "cell_type": "markdown",
   "metadata": {},
   "source": [
    "# Construct Fact Table\n",
    "\n",
    "A tabela fato é onde concentrará a representação das vendas contendo todas as informações de protuto, pagamento e transação"
   ]
  },
  {
   "cell_type": "markdown",
   "metadata": {},
   "source": [
    "### Validando a tabela de transações e a tabela de item transação"
   ]
  },
  {
   "cell_type": "code",
   "execution_count": 26,
   "metadata": {},
   "outputs": [
    {
     "data": {
      "text/plain": [
       "27"
      ]
     },
     "execution_count": 26,
     "metadata": {},
     "output_type": "execute_result"
    }
   ],
   "source": [
    "df_item_transaction[ df_item_transaction.IDTransação.isin(df_transactions.IDTransação)]['IDTransação'].nunique()"
   ]
  },
  {
   "cell_type": "code",
   "execution_count": 27,
   "metadata": {},
   "outputs": [
    {
     "data": {
      "text/plain": [
       "7"
      ]
     },
     "execution_count": 27,
     "metadata": {},
     "output_type": "execute_result"
    }
   ],
   "source": [
    "df_transactions[ ~df_transactions.IDTransação.isin(df_item_transaction.IDTransação.unique())]['IDTransação'].nunique()"
   ]
  },
  {
   "cell_type": "code",
   "execution_count": 28,
   "metadata": {},
   "outputs": [
    {
     "data": {
      "text/plain": [
       "array([ 4,  7,  8,  9, 10, 11, 12], dtype=int64)"
      ]
     },
     "execution_count": 28,
     "metadata": {},
     "output_type": "execute_result"
    }
   ],
   "source": [
    "df_transactions[ ~df_transactions.IDTransação.isin(df_item_transaction.IDTransação.unique())]['IDTransação'].unique()"
   ]
  },
  {
   "cell_type": "code",
   "execution_count": 29,
   "metadata": {},
   "outputs": [],
   "source": [
    "assert df_item_transaction[ df_item_transaction.item.isin(df_itens.codItem)]['item'].nunique() == df_itens[ df_itens.codItem.isin(df_item_transaction.item)]['codItem'].nunique(), \"A quantidade de itens únicos não batem.\""
   ]
  },
  {
   "cell_type": "markdown",
   "metadata": {},
   "source": [
    "### Merges"
   ]
  },
  {
   "cell_type": "code",
   "execution_count": 30,
   "metadata": {},
   "outputs": [
    {
     "name": "stdout",
     "output_type": "stream",
     "text": [
      "Shape:(85, 8)\n",
      "Duplicated lines:0\n"
     ]
    },
    {
     "data": {
      "text/html": [
       "<div>\n",
       "<style scoped>\n",
       "    .dataframe tbody tr th:only-of-type {\n",
       "        vertical-align: middle;\n",
       "    }\n",
       "\n",
       "    .dataframe tbody tr th {\n",
       "        vertical-align: top;\n",
       "    }\n",
       "\n",
       "    .dataframe thead th {\n",
       "        text-align: right;\n",
       "    }\n",
       "</style>\n",
       "<table border=\"1\" class=\"dataframe\">\n",
       "  <thead>\n",
       "    <tr style=\"text-align: right;\">\n",
       "      <th></th>\n",
       "      <th>idTransação</th>\n",
       "      <th>idItem</th>\n",
       "      <th>marca</th>\n",
       "      <th>descrição</th>\n",
       "      <th>tipo</th>\n",
       "      <th>valorTotal</th>\n",
       "      <th>tipo pagamento</th>\n",
       "    </tr>\n",
       "  </thead>\n",
       "  <tbody>\n",
       "    <tr>\n",
       "      <th>10</th>\n",
       "      <td>1</td>\n",
       "      <td>1</td>\n",
       "      <td>banana</td>\n",
       "      <td>banana prata</td>\n",
       "      <td>fruta</td>\n",
       "      <td>15</td>\n",
       "      <td>ch</td>\n",
       "    </tr>\n",
       "    <tr>\n",
       "      <th>65</th>\n",
       "      <td>1</td>\n",
       "      <td>4</td>\n",
       "      <td>limão</td>\n",
       "      <td>limão siciliano</td>\n",
       "      <td>fruta</td>\n",
       "      <td>15</td>\n",
       "      <td>ch</td>\n",
       "    </tr>\n",
       "    <tr>\n",
       "      <th>37</th>\n",
       "      <td>1</td>\n",
       "      <td>12</td>\n",
       "      <td>ariel</td>\n",
       "      <td>ariel total</td>\n",
       "      <td>sabao em po</td>\n",
       "      <td>15</td>\n",
       "      <td>ch</td>\n",
       "    </tr>\n",
       "    <tr>\n",
       "      <th>38</th>\n",
       "      <td>2</td>\n",
       "      <td>12</td>\n",
       "      <td>ariel</td>\n",
       "      <td>ariel total</td>\n",
       "      <td>sabao em po</td>\n",
       "      <td>20</td>\n",
       "      <td>ch</td>\n",
       "    </tr>\n",
       "    <tr>\n",
       "      <th>55</th>\n",
       "      <td>3</td>\n",
       "      <td>2</td>\n",
       "      <td>banana</td>\n",
       "      <td>banana caturra</td>\n",
       "      <td>fruta</td>\n",
       "      <td>14</td>\n",
       "      <td>es</td>\n",
       "    </tr>\n",
       "  </tbody>\n",
       "</table>\n",
       "</div>"
      ],
      "text/plain": [
       "    idTransação  idItem   marca        descrição         tipo  valorTotal  \\\n",
       "10            1       1  banana     banana prata        fruta          15   \n",
       "65            1       4   limão  limão siciliano        fruta          15   \n",
       "37            1      12   ariel      ariel total  sabao em po          15   \n",
       "38            2      12   ariel      ariel total  sabao em po          20   \n",
       "55            3       2  banana   banana caturra        fruta          14   \n",
       "\n",
       "   tipo pagamento  \n",
       "10             ch  \n",
       "65             ch  \n",
       "37             ch  \n",
       "38             ch  \n",
       "55             es  "
      ]
     },
     "execution_count": 30,
     "metadata": {},
     "output_type": "execute_result"
    }
   ],
   "source": [
    "df_fact = pd.merge(df_item_transaction, df_transactions, on='IDTransação', how='inner')\n",
    "df_fact = pd.merge(df_fact, df_itens, left_on='item', right_on='codItem', how='inner')\n",
    "\n",
    "print(f\"Shape:{df_fact.shape}\\nDuplicated lines:{df_fact.duplicated().sum()}\")\n",
    "\n",
    "df_fact = df_fact.rename(columns={'item':'idItem', 'IDTransação':'idTransação'})\n",
    "df_fact = df_fact[['idTransação', 'idItem', 'marca','descrição', 'tipo', 'valorTotal', 'tipo pagamento']]\n",
    "df_fact = df_fact.sort_values(by=['idTransação', 'idItem'], ascending=True)\n",
    "\n",
    "df_fact.head()"
   ]
  },
  {
   "cell_type": "markdown",
   "metadata": {},
   "source": [
    "## Data Exploration Fact Table"
   ]
  },
  {
   "cell_type": "markdown",
   "metadata": {},
   "source": [
    "### Produto"
   ]
  },
  {
   "cell_type": "code",
   "execution_count": 31,
   "metadata": {},
   "outputs": [
    {
     "data": {
      "text/html": [
       "<div>\n",
       "<style scoped>\n",
       "    .dataframe tbody tr th:only-of-type {\n",
       "        vertical-align: middle;\n",
       "    }\n",
       "\n",
       "    .dataframe tbody tr th {\n",
       "        vertical-align: top;\n",
       "    }\n",
       "\n",
       "    .dataframe thead th {\n",
       "        text-align: right;\n",
       "    }\n",
       "</style>\n",
       "<table border=\"1\" class=\"dataframe\">\n",
       "  <thead>\n",
       "    <tr style=\"text-align: right;\">\n",
       "      <th></th>\n",
       "      <th>descrição</th>\n",
       "      <th>quantidade</th>\n",
       "    </tr>\n",
       "  </thead>\n",
       "  <tbody>\n",
       "    <tr>\n",
       "      <th>0</th>\n",
       "      <td>banana prata</td>\n",
       "      <td>12</td>\n",
       "    </tr>\n",
       "    <tr>\n",
       "      <th>1</th>\n",
       "      <td>coca light</td>\n",
       "      <td>12</td>\n",
       "    </tr>\n",
       "    <tr>\n",
       "      <th>2</th>\n",
       "      <td>banana caturra</td>\n",
       "      <td>10</td>\n",
       "    </tr>\n",
       "    <tr>\n",
       "      <th>3</th>\n",
       "      <td>limao Taiti</td>\n",
       "      <td>9</td>\n",
       "    </tr>\n",
       "    <tr>\n",
       "      <th>4</th>\n",
       "      <td>limão siciliano</td>\n",
       "      <td>9</td>\n",
       "    </tr>\n",
       "    <tr>\n",
       "      <th>5</th>\n",
       "      <td>ariel total</td>\n",
       "      <td>8</td>\n",
       "    </tr>\n",
       "    <tr>\n",
       "      <th>6</th>\n",
       "      <td>omo collors</td>\n",
       "      <td>8</td>\n",
       "    </tr>\n",
       "    <tr>\n",
       "      <th>7</th>\n",
       "      <td>coca lemon light</td>\n",
       "      <td>6</td>\n",
       "    </tr>\n",
       "    <tr>\n",
       "      <th>8</th>\n",
       "      <td>omo progress</td>\n",
       "      <td>6</td>\n",
       "    </tr>\n",
       "    <tr>\n",
       "      <th>9</th>\n",
       "      <td>coca</td>\n",
       "      <td>5</td>\n",
       "    </tr>\n",
       "  </tbody>\n",
       "</table>\n",
       "</div>"
      ],
      "text/plain": [
       "          descrição  quantidade\n",
       "0      banana prata          12\n",
       "1        coca light          12\n",
       "2    banana caturra          10\n",
       "3       limao Taiti           9\n",
       "4   limão siciliano           9\n",
       "5       ariel total           8\n",
       "6       omo collors           8\n",
       "7  coca lemon light           6\n",
       "8      omo progress           6\n",
       "9              coca           5"
      ]
     },
     "execution_count": 31,
     "metadata": {},
     "output_type": "execute_result"
    }
   ],
   "source": [
    "product = df_fact.groupby(\"descrição\")['idItem'].count().sort_values(ascending=False).reset_index(name='quantidade')\n",
    "product"
   ]
  },
  {
   "cell_type": "code",
   "execution_count": 32,
   "metadata": {},
   "outputs": [
    {
     "data": {
      "application/vnd.plotly.v1+json": {
       "config": {
        "plotlyServerURL": "https://plot.ly"
       },
       "data": [
        {
         "alignmentgroup": "True",
         "hovertemplate": "descrição=%{y}<br>quantidade=%{x}<extra></extra>",
         "legendgroup": "banana prata",
         "marker": {
          "color": "#00a200",
          "pattern": {
           "shape": ""
          }
         },
         "name": "banana prata",
         "offsetgroup": "banana prata",
         "orientation": "h",
         "showlegend": true,
         "textangle": 0,
         "textfont": {
          "size": 16
         },
         "textposition": "outside",
         "texttemplate": "%{x}",
         "type": "bar",
         "x": [
          12
         ],
         "xaxis": "x",
         "y": [
          "banana prata"
         ],
         "yaxis": "y"
        },
        {
         "alignmentgroup": "True",
         "hovertemplate": "descrição=%{y}<br>quantidade=%{x}<extra></extra>",
         "legendgroup": "coca light",
         "marker": {
          "color": "#19ab19",
          "pattern": {
           "shape": ""
          }
         },
         "name": "coca light",
         "offsetgroup": "coca light",
         "orientation": "h",
         "showlegend": true,
         "textangle": 0,
         "textfont": {
          "size": 16
         },
         "textposition": "outside",
         "texttemplate": "%{x}",
         "type": "bar",
         "x": [
          12
         ],
         "xaxis": "x",
         "y": [
          "coca light"
         ],
         "yaxis": "y"
        },
        {
         "alignmentgroup": "True",
         "hovertemplate": "descrição=%{y}<br>quantidade=%{x}<extra></extra>",
         "legendgroup": "banana caturra",
         "marker": {
          "color": "#32b432",
          "pattern": {
           "shape": ""
          }
         },
         "name": "banana caturra",
         "offsetgroup": "banana caturra",
         "orientation": "h",
         "showlegend": true,
         "textangle": 0,
         "textfont": {
          "size": 16
         },
         "textposition": "outside",
         "texttemplate": "%{x}",
         "type": "bar",
         "x": [
          10
         ],
         "xaxis": "x",
         "y": [
          "banana caturra"
         ],
         "yaxis": "y"
        },
        {
         "alignmentgroup": "True",
         "hovertemplate": "descrição=%{y}<br>quantidade=%{x}<extra></extra>",
         "legendgroup": "limao Taiti",
         "marker": {
          "color": "#4cbd4c",
          "pattern": {
           "shape": ""
          }
         },
         "name": "limao Taiti",
         "offsetgroup": "limao Taiti",
         "orientation": "h",
         "showlegend": true,
         "textangle": 0,
         "textfont": {
          "size": 16
         },
         "textposition": "outside",
         "texttemplate": "%{x}",
         "type": "bar",
         "x": [
          9
         ],
         "xaxis": "x",
         "y": [
          "limao Taiti"
         ],
         "yaxis": "y"
        },
        {
         "alignmentgroup": "True",
         "hovertemplate": "descrição=%{y}<br>quantidade=%{x}<extra></extra>",
         "legendgroup": "limão siciliano",
         "marker": {
          "color": "#66c766",
          "pattern": {
           "shape": ""
          }
         },
         "name": "limão siciliano",
         "offsetgroup": "limão siciliano",
         "orientation": "h",
         "showlegend": true,
         "textangle": 0,
         "textfont": {
          "size": 16
         },
         "textposition": "outside",
         "texttemplate": "%{x}",
         "type": "bar",
         "x": [
          9
         ],
         "xaxis": "x",
         "y": [
          "limão siciliano"
         ],
         "yaxis": "y"
        },
        {
         "alignmentgroup": "True",
         "hovertemplate": "descrição=%{y}<br>quantidade=%{x}<extra></extra>",
         "legendgroup": "ariel total",
         "marker": {
          "color": "#7fd07f",
          "pattern": {
           "shape": ""
          }
         },
         "name": "ariel total",
         "offsetgroup": "ariel total",
         "orientation": "h",
         "showlegend": true,
         "textangle": 0,
         "textfont": {
          "size": 16
         },
         "textposition": "outside",
         "texttemplate": "%{x}",
         "type": "bar",
         "x": [
          8
         ],
         "xaxis": "x",
         "y": [
          "ariel total"
         ],
         "yaxis": "y"
        },
        {
         "alignmentgroup": "True",
         "hovertemplate": "descrição=%{y}<br>quantidade=%{x}<extra></extra>",
         "legendgroup": "omo collors",
         "marker": {
          "color": "#99d999",
          "pattern": {
           "shape": ""
          }
         },
         "name": "omo collors",
         "offsetgroup": "omo collors",
         "orientation": "h",
         "showlegend": true,
         "textangle": 0,
         "textfont": {
          "size": 16
         },
         "textposition": "outside",
         "texttemplate": "%{x}",
         "type": "bar",
         "x": [
          8
         ],
         "xaxis": "x",
         "y": [
          "omo collors"
         ],
         "yaxis": "y"
        },
        {
         "alignmentgroup": "True",
         "hovertemplate": "descrição=%{y}<br>quantidade=%{x}<extra></extra>",
         "legendgroup": "coca lemon light",
         "marker": {
          "color": "#b2e3b2",
          "pattern": {
           "shape": ""
          }
         },
         "name": "coca lemon light",
         "offsetgroup": "coca lemon light",
         "orientation": "h",
         "showlegend": true,
         "textangle": 0,
         "textfont": {
          "size": 16
         },
         "textposition": "outside",
         "texttemplate": "%{x}",
         "type": "bar",
         "x": [
          6
         ],
         "xaxis": "x",
         "y": [
          "coca lemon light"
         ],
         "yaxis": "y"
        },
        {
         "alignmentgroup": "True",
         "hovertemplate": "descrição=%{y}<br>quantidade=%{x}<extra></extra>",
         "legendgroup": "omo progress",
         "marker": {
          "color": "#cceccc",
          "pattern": {
           "shape": ""
          }
         },
         "name": "omo progress",
         "offsetgroup": "omo progress",
         "orientation": "h",
         "showlegend": true,
         "textangle": 0,
         "textfont": {
          "size": 16
         },
         "textposition": "outside",
         "texttemplate": "%{x}",
         "type": "bar",
         "x": [
          6
         ],
         "xaxis": "x",
         "y": [
          "omo progress"
         ],
         "yaxis": "y"
        },
        {
         "alignmentgroup": "True",
         "hovertemplate": "descrição=%{y}<br>quantidade=%{x}<extra></extra>",
         "legendgroup": "coca",
         "marker": {
          "color": "#e5f5e5",
          "pattern": {
           "shape": ""
          }
         },
         "name": "coca",
         "offsetgroup": "coca",
         "orientation": "h",
         "showlegend": true,
         "textangle": 0,
         "textfont": {
          "size": 16
         },
         "textposition": "outside",
         "texttemplate": "%{x}",
         "type": "bar",
         "x": [
          5
         ],
         "xaxis": "x",
         "y": [
          "coca"
         ],
         "yaxis": "y"
        }
       ],
       "layout": {
        "barmode": "relative",
        "font": {
         "family": "Arial, monospace",
         "size": 18
        },
        "legend": {
         "title": {
          "text": "descrição"
         },
         "tracegroupgap": 0
        },
        "plot_bgcolor": "rgba(0, 0, 0, 0)",
        "showlegend": false,
        "template": {
         "data": {
          "bar": [
           {
            "error_x": {
             "color": "#2a3f5f"
            },
            "error_y": {
             "color": "#2a3f5f"
            },
            "marker": {
             "line": {
              "color": "#E5ECF6",
              "width": 0.5
             },
             "pattern": {
              "fillmode": "overlay",
              "size": 10,
              "solidity": 0.2
             }
            },
            "type": "bar"
           }
          ],
          "barpolar": [
           {
            "marker": {
             "line": {
              "color": "#E5ECF6",
              "width": 0.5
             },
             "pattern": {
              "fillmode": "overlay",
              "size": 10,
              "solidity": 0.2
             }
            },
            "type": "barpolar"
           }
          ],
          "carpet": [
           {
            "aaxis": {
             "endlinecolor": "#2a3f5f",
             "gridcolor": "white",
             "linecolor": "white",
             "minorgridcolor": "white",
             "startlinecolor": "#2a3f5f"
            },
            "baxis": {
             "endlinecolor": "#2a3f5f",
             "gridcolor": "white",
             "linecolor": "white",
             "minorgridcolor": "white",
             "startlinecolor": "#2a3f5f"
            },
            "type": "carpet"
           }
          ],
          "choropleth": [
           {
            "colorbar": {
             "outlinewidth": 0,
             "ticks": ""
            },
            "type": "choropleth"
           }
          ],
          "contour": [
           {
            "colorbar": {
             "outlinewidth": 0,
             "ticks": ""
            },
            "colorscale": [
             [
              0,
              "#0d0887"
             ],
             [
              0.1111111111111111,
              "#46039f"
             ],
             [
              0.2222222222222222,
              "#7201a8"
             ],
             [
              0.3333333333333333,
              "#9c179e"
             ],
             [
              0.4444444444444444,
              "#bd3786"
             ],
             [
              0.5555555555555556,
              "#d8576b"
             ],
             [
              0.6666666666666666,
              "#ed7953"
             ],
             [
              0.7777777777777778,
              "#fb9f3a"
             ],
             [
              0.8888888888888888,
              "#fdca26"
             ],
             [
              1,
              "#f0f921"
             ]
            ],
            "type": "contour"
           }
          ],
          "contourcarpet": [
           {
            "colorbar": {
             "outlinewidth": 0,
             "ticks": ""
            },
            "type": "contourcarpet"
           }
          ],
          "heatmap": [
           {
            "colorbar": {
             "outlinewidth": 0,
             "ticks": ""
            },
            "colorscale": [
             [
              0,
              "#0d0887"
             ],
             [
              0.1111111111111111,
              "#46039f"
             ],
             [
              0.2222222222222222,
              "#7201a8"
             ],
             [
              0.3333333333333333,
              "#9c179e"
             ],
             [
              0.4444444444444444,
              "#bd3786"
             ],
             [
              0.5555555555555556,
              "#d8576b"
             ],
             [
              0.6666666666666666,
              "#ed7953"
             ],
             [
              0.7777777777777778,
              "#fb9f3a"
             ],
             [
              0.8888888888888888,
              "#fdca26"
             ],
             [
              1,
              "#f0f921"
             ]
            ],
            "type": "heatmap"
           }
          ],
          "heatmapgl": [
           {
            "colorbar": {
             "outlinewidth": 0,
             "ticks": ""
            },
            "colorscale": [
             [
              0,
              "#0d0887"
             ],
             [
              0.1111111111111111,
              "#46039f"
             ],
             [
              0.2222222222222222,
              "#7201a8"
             ],
             [
              0.3333333333333333,
              "#9c179e"
             ],
             [
              0.4444444444444444,
              "#bd3786"
             ],
             [
              0.5555555555555556,
              "#d8576b"
             ],
             [
              0.6666666666666666,
              "#ed7953"
             ],
             [
              0.7777777777777778,
              "#fb9f3a"
             ],
             [
              0.8888888888888888,
              "#fdca26"
             ],
             [
              1,
              "#f0f921"
             ]
            ],
            "type": "heatmapgl"
           }
          ],
          "histogram": [
           {
            "marker": {
             "pattern": {
              "fillmode": "overlay",
              "size": 10,
              "solidity": 0.2
             }
            },
            "type": "histogram"
           }
          ],
          "histogram2d": [
           {
            "colorbar": {
             "outlinewidth": 0,
             "ticks": ""
            },
            "colorscale": [
             [
              0,
              "#0d0887"
             ],
             [
              0.1111111111111111,
              "#46039f"
             ],
             [
              0.2222222222222222,
              "#7201a8"
             ],
             [
              0.3333333333333333,
              "#9c179e"
             ],
             [
              0.4444444444444444,
              "#bd3786"
             ],
             [
              0.5555555555555556,
              "#d8576b"
             ],
             [
              0.6666666666666666,
              "#ed7953"
             ],
             [
              0.7777777777777778,
              "#fb9f3a"
             ],
             [
              0.8888888888888888,
              "#fdca26"
             ],
             [
              1,
              "#f0f921"
             ]
            ],
            "type": "histogram2d"
           }
          ],
          "histogram2dcontour": [
           {
            "colorbar": {
             "outlinewidth": 0,
             "ticks": ""
            },
            "colorscale": [
             [
              0,
              "#0d0887"
             ],
             [
              0.1111111111111111,
              "#46039f"
             ],
             [
              0.2222222222222222,
              "#7201a8"
             ],
             [
              0.3333333333333333,
              "#9c179e"
             ],
             [
              0.4444444444444444,
              "#bd3786"
             ],
             [
              0.5555555555555556,
              "#d8576b"
             ],
             [
              0.6666666666666666,
              "#ed7953"
             ],
             [
              0.7777777777777778,
              "#fb9f3a"
             ],
             [
              0.8888888888888888,
              "#fdca26"
             ],
             [
              1,
              "#f0f921"
             ]
            ],
            "type": "histogram2dcontour"
           }
          ],
          "mesh3d": [
           {
            "colorbar": {
             "outlinewidth": 0,
             "ticks": ""
            },
            "type": "mesh3d"
           }
          ],
          "parcoords": [
           {
            "line": {
             "colorbar": {
              "outlinewidth": 0,
              "ticks": ""
             }
            },
            "type": "parcoords"
           }
          ],
          "pie": [
           {
            "automargin": true,
            "type": "pie"
           }
          ],
          "scatter": [
           {
            "fillpattern": {
             "fillmode": "overlay",
             "size": 10,
             "solidity": 0.2
            },
            "type": "scatter"
           }
          ],
          "scatter3d": [
           {
            "line": {
             "colorbar": {
              "outlinewidth": 0,
              "ticks": ""
             }
            },
            "marker": {
             "colorbar": {
              "outlinewidth": 0,
              "ticks": ""
             }
            },
            "type": "scatter3d"
           }
          ],
          "scattercarpet": [
           {
            "marker": {
             "colorbar": {
              "outlinewidth": 0,
              "ticks": ""
             }
            },
            "type": "scattercarpet"
           }
          ],
          "scattergeo": [
           {
            "marker": {
             "colorbar": {
              "outlinewidth": 0,
              "ticks": ""
             }
            },
            "type": "scattergeo"
           }
          ],
          "scattergl": [
           {
            "marker": {
             "colorbar": {
              "outlinewidth": 0,
              "ticks": ""
             }
            },
            "type": "scattergl"
           }
          ],
          "scattermapbox": [
           {
            "marker": {
             "colorbar": {
              "outlinewidth": 0,
              "ticks": ""
             }
            },
            "type": "scattermapbox"
           }
          ],
          "scatterpolar": [
           {
            "marker": {
             "colorbar": {
              "outlinewidth": 0,
              "ticks": ""
             }
            },
            "type": "scatterpolar"
           }
          ],
          "scatterpolargl": [
           {
            "marker": {
             "colorbar": {
              "outlinewidth": 0,
              "ticks": ""
             }
            },
            "type": "scatterpolargl"
           }
          ],
          "scatterternary": [
           {
            "marker": {
             "colorbar": {
              "outlinewidth": 0,
              "ticks": ""
             }
            },
            "type": "scatterternary"
           }
          ],
          "surface": [
           {
            "colorbar": {
             "outlinewidth": 0,
             "ticks": ""
            },
            "colorscale": [
             [
              0,
              "#0d0887"
             ],
             [
              0.1111111111111111,
              "#46039f"
             ],
             [
              0.2222222222222222,
              "#7201a8"
             ],
             [
              0.3333333333333333,
              "#9c179e"
             ],
             [
              0.4444444444444444,
              "#bd3786"
             ],
             [
              0.5555555555555556,
              "#d8576b"
             ],
             [
              0.6666666666666666,
              "#ed7953"
             ],
             [
              0.7777777777777778,
              "#fb9f3a"
             ],
             [
              0.8888888888888888,
              "#fdca26"
             ],
             [
              1,
              "#f0f921"
             ]
            ],
            "type": "surface"
           }
          ],
          "table": [
           {
            "cells": {
             "fill": {
              "color": "#EBF0F8"
             },
             "line": {
              "color": "white"
             }
            },
            "header": {
             "fill": {
              "color": "#C8D4E3"
             },
             "line": {
              "color": "white"
             }
            },
            "type": "table"
           }
          ]
         },
         "layout": {
          "annotationdefaults": {
           "arrowcolor": "#2a3f5f",
           "arrowhead": 0,
           "arrowwidth": 1
          },
          "autotypenumbers": "strict",
          "coloraxis": {
           "colorbar": {
            "outlinewidth": 0,
            "ticks": ""
           }
          },
          "colorscale": {
           "diverging": [
            [
             0,
             "#8e0152"
            ],
            [
             0.1,
             "#c51b7d"
            ],
            [
             0.2,
             "#de77ae"
            ],
            [
             0.3,
             "#f1b6da"
            ],
            [
             0.4,
             "#fde0ef"
            ],
            [
             0.5,
             "#f7f7f7"
            ],
            [
             0.6,
             "#e6f5d0"
            ],
            [
             0.7,
             "#b8e186"
            ],
            [
             0.8,
             "#7fbc41"
            ],
            [
             0.9,
             "#4d9221"
            ],
            [
             1,
             "#276419"
            ]
           ],
           "sequential": [
            [
             0,
             "#0d0887"
            ],
            [
             0.1111111111111111,
             "#46039f"
            ],
            [
             0.2222222222222222,
             "#7201a8"
            ],
            [
             0.3333333333333333,
             "#9c179e"
            ],
            [
             0.4444444444444444,
             "#bd3786"
            ],
            [
             0.5555555555555556,
             "#d8576b"
            ],
            [
             0.6666666666666666,
             "#ed7953"
            ],
            [
             0.7777777777777778,
             "#fb9f3a"
            ],
            [
             0.8888888888888888,
             "#fdca26"
            ],
            [
             1,
             "#f0f921"
            ]
           ],
           "sequentialminus": [
            [
             0,
             "#0d0887"
            ],
            [
             0.1111111111111111,
             "#46039f"
            ],
            [
             0.2222222222222222,
             "#7201a8"
            ],
            [
             0.3333333333333333,
             "#9c179e"
            ],
            [
             0.4444444444444444,
             "#bd3786"
            ],
            [
             0.5555555555555556,
             "#d8576b"
            ],
            [
             0.6666666666666666,
             "#ed7953"
            ],
            [
             0.7777777777777778,
             "#fb9f3a"
            ],
            [
             0.8888888888888888,
             "#fdca26"
            ],
            [
             1,
             "#f0f921"
            ]
           ]
          },
          "colorway": [
           "#636efa",
           "#EF553B",
           "#00cc96",
           "#ab63fa",
           "#FFA15A",
           "#19d3f3",
           "#FF6692",
           "#B6E880",
           "#FF97FF",
           "#FECB52"
          ],
          "font": {
           "color": "#2a3f5f"
          },
          "geo": {
           "bgcolor": "white",
           "lakecolor": "white",
           "landcolor": "#E5ECF6",
           "showlakes": true,
           "showland": true,
           "subunitcolor": "white"
          },
          "hoverlabel": {
           "align": "left"
          },
          "hovermode": "closest",
          "mapbox": {
           "style": "light"
          },
          "paper_bgcolor": "white",
          "plot_bgcolor": "#E5ECF6",
          "polar": {
           "angularaxis": {
            "gridcolor": "white",
            "linecolor": "white",
            "ticks": ""
           },
           "bgcolor": "#E5ECF6",
           "radialaxis": {
            "gridcolor": "white",
            "linecolor": "white",
            "ticks": ""
           }
          },
          "scene": {
           "xaxis": {
            "backgroundcolor": "#E5ECF6",
            "gridcolor": "white",
            "gridwidth": 2,
            "linecolor": "white",
            "showbackground": true,
            "ticks": "",
            "zerolinecolor": "white"
           },
           "yaxis": {
            "backgroundcolor": "#E5ECF6",
            "gridcolor": "white",
            "gridwidth": 2,
            "linecolor": "white",
            "showbackground": true,
            "ticks": "",
            "zerolinecolor": "white"
           },
           "zaxis": {
            "backgroundcolor": "#E5ECF6",
            "gridcolor": "white",
            "gridwidth": 2,
            "linecolor": "white",
            "showbackground": true,
            "ticks": "",
            "zerolinecolor": "white"
           }
          },
          "shapedefaults": {
           "line": {
            "color": "#2a3f5f"
           }
          },
          "ternary": {
           "aaxis": {
            "gridcolor": "white",
            "linecolor": "white",
            "ticks": ""
           },
           "baxis": {
            "gridcolor": "white",
            "linecolor": "white",
            "ticks": ""
           },
           "bgcolor": "#E5ECF6",
           "caxis": {
            "gridcolor": "white",
            "linecolor": "white",
            "ticks": ""
           }
          },
          "title": {
           "x": 0.05
          },
          "xaxis": {
           "automargin": true,
           "gridcolor": "white",
           "linecolor": "white",
           "ticks": "",
           "title": {
            "standoff": 15
           },
           "zerolinecolor": "white",
           "zerolinewidth": 2
          },
          "yaxis": {
           "automargin": true,
           "gridcolor": "white",
           "linecolor": "white",
           "ticks": "",
           "title": {
            "standoff": 15
           },
           "zerolinecolor": "white",
           "zerolinewidth": 2
          }
         }
        },
        "title": {
         "text": "Volume de Transações por Item"
        },
        "xaxis": {
         "anchor": "y",
         "domain": [
          0,
          1
         ],
         "title": {
          "text": "quantidade"
         },
         "visible": false
        },
        "yaxis": {
         "anchor": "x",
         "categoryarray": [
          "coca",
          "omo progress",
          "coca lemon light",
          "omo collors",
          "ariel total",
          "limão siciliano",
          "limao Taiti",
          "banana caturra",
          "coca light",
          "banana prata"
         ],
         "categoryorder": "array",
         "domain": [
          0,
          1
         ],
         "title": {
          "text": ""
         }
        }
       }
      }
     },
     "metadata": {},
     "output_type": "display_data"
    }
   ],
   "source": [
    "colors=['#00a200','#19ab19', '#32b432', '#4cbd4c', '#66c766', '#7fd07f', '#99d999', '#b2e3b2', '#cceccc', '#e5f5e5']\n",
    "\n",
    "fig = px.bar( product, y=\"descrição\", x=\"quantidade\", color=\"descrição\", orientation=\"h\", color_discrete_sequence=colors, \n",
    "              title='Volume de Transações por Item',  text_auto=True, \n",
    "            )\n",
    "\n",
    "fig.update_traces(  textfont_size=16, textangle=0,textposition=\"outside\") \n",
    "fig.update_layout(  showlegend=False, plot_bgcolor='rgba(0, 0, 0, 0)', font=dict( family=\"Arial, monospace\", size=18),\n",
    "                    yaxis_title=\"\")  \n",
    "fig.update_xaxes(visible=False)\n",
    "fig.show()"
   ]
  },
  {
   "cell_type": "markdown",
   "metadata": {},
   "source": [
    "### Tipo"
   ]
  },
  {
   "cell_type": "code",
   "execution_count": 33,
   "metadata": {},
   "outputs": [
    {
     "data": {
      "text/html": [
       "<div>\n",
       "<style scoped>\n",
       "    .dataframe tbody tr th:only-of-type {\n",
       "        vertical-align: middle;\n",
       "    }\n",
       "\n",
       "    .dataframe tbody tr th {\n",
       "        vertical-align: top;\n",
       "    }\n",
       "\n",
       "    .dataframe thead th {\n",
       "        text-align: right;\n",
       "    }\n",
       "</style>\n",
       "<table border=\"1\" class=\"dataframe\">\n",
       "  <thead>\n",
       "    <tr style=\"text-align: right;\">\n",
       "      <th></th>\n",
       "      <th>tipo</th>\n",
       "      <th>quantidade</th>\n",
       "    </tr>\n",
       "  </thead>\n",
       "  <tbody>\n",
       "    <tr>\n",
       "      <th>0</th>\n",
       "      <td>fruta</td>\n",
       "      <td>40</td>\n",
       "    </tr>\n",
       "    <tr>\n",
       "      <th>1</th>\n",
       "      <td>sabao em po</td>\n",
       "      <td>22</td>\n",
       "    </tr>\n",
       "    <tr>\n",
       "      <th>2</th>\n",
       "      <td>refrigerante</td>\n",
       "      <td>17</td>\n",
       "    </tr>\n",
       "    <tr>\n",
       "      <th>3</th>\n",
       "      <td>refirgerante</td>\n",
       "      <td>6</td>\n",
       "    </tr>\n",
       "  </tbody>\n",
       "</table>\n",
       "</div>"
      ],
      "text/plain": [
       "           tipo  quantidade\n",
       "0         fruta          40\n",
       "1   sabao em po          22\n",
       "2  refrigerante          17\n",
       "3  refirgerante           6"
      ]
     },
     "execution_count": 33,
     "metadata": {},
     "output_type": "execute_result"
    }
   ],
   "source": [
    "tipo = df_fact.tipo.value_counts().reset_index(name='quantidade').rename(columns={'index':'tipo'})\n",
    "tipo"
   ]
  },
  {
   "cell_type": "code",
   "execution_count": 34,
   "metadata": {},
   "outputs": [
    {
     "data": {
      "application/vnd.plotly.v1+json": {
       "config": {
        "plotlyServerURL": "https://plot.ly"
       },
       "data": [
        {
         "hole": 0.3,
         "labels": [
          "fruta",
          "sabao em po",
          "refrigerante",
          "refirgerante"
         ],
         "marker": {
          "colors": [
           "#00a200",
           "#19ab19",
           "#32b432",
           "#4cbd4c",
           "#66c766",
           "#7fd07f",
           "#99d999",
           "#b2e3b2",
           "#cceccc",
           "#e5f5e5"
          ]
         },
         "textfont": {
          "size": 14
         },
         "textinfo": "label+percent",
         "type": "pie",
         "values": [
          40,
          22,
          17,
          6
         ]
        }
       ],
       "layout": {
        "height": 500,
        "template": {
         "data": {
          "bar": [
           {
            "error_x": {
             "color": "#2a3f5f"
            },
            "error_y": {
             "color": "#2a3f5f"
            },
            "marker": {
             "line": {
              "color": "#E5ECF6",
              "width": 0.5
             },
             "pattern": {
              "fillmode": "overlay",
              "size": 10,
              "solidity": 0.2
             }
            },
            "type": "bar"
           }
          ],
          "barpolar": [
           {
            "marker": {
             "line": {
              "color": "#E5ECF6",
              "width": 0.5
             },
             "pattern": {
              "fillmode": "overlay",
              "size": 10,
              "solidity": 0.2
             }
            },
            "type": "barpolar"
           }
          ],
          "carpet": [
           {
            "aaxis": {
             "endlinecolor": "#2a3f5f",
             "gridcolor": "white",
             "linecolor": "white",
             "minorgridcolor": "white",
             "startlinecolor": "#2a3f5f"
            },
            "baxis": {
             "endlinecolor": "#2a3f5f",
             "gridcolor": "white",
             "linecolor": "white",
             "minorgridcolor": "white",
             "startlinecolor": "#2a3f5f"
            },
            "type": "carpet"
           }
          ],
          "choropleth": [
           {
            "colorbar": {
             "outlinewidth": 0,
             "ticks": ""
            },
            "type": "choropleth"
           }
          ],
          "contour": [
           {
            "colorbar": {
             "outlinewidth": 0,
             "ticks": ""
            },
            "colorscale": [
             [
              0,
              "#0d0887"
             ],
             [
              0.1111111111111111,
              "#46039f"
             ],
             [
              0.2222222222222222,
              "#7201a8"
             ],
             [
              0.3333333333333333,
              "#9c179e"
             ],
             [
              0.4444444444444444,
              "#bd3786"
             ],
             [
              0.5555555555555556,
              "#d8576b"
             ],
             [
              0.6666666666666666,
              "#ed7953"
             ],
             [
              0.7777777777777778,
              "#fb9f3a"
             ],
             [
              0.8888888888888888,
              "#fdca26"
             ],
             [
              1,
              "#f0f921"
             ]
            ],
            "type": "contour"
           }
          ],
          "contourcarpet": [
           {
            "colorbar": {
             "outlinewidth": 0,
             "ticks": ""
            },
            "type": "contourcarpet"
           }
          ],
          "heatmap": [
           {
            "colorbar": {
             "outlinewidth": 0,
             "ticks": ""
            },
            "colorscale": [
             [
              0,
              "#0d0887"
             ],
             [
              0.1111111111111111,
              "#46039f"
             ],
             [
              0.2222222222222222,
              "#7201a8"
             ],
             [
              0.3333333333333333,
              "#9c179e"
             ],
             [
              0.4444444444444444,
              "#bd3786"
             ],
             [
              0.5555555555555556,
              "#d8576b"
             ],
             [
              0.6666666666666666,
              "#ed7953"
             ],
             [
              0.7777777777777778,
              "#fb9f3a"
             ],
             [
              0.8888888888888888,
              "#fdca26"
             ],
             [
              1,
              "#f0f921"
             ]
            ],
            "type": "heatmap"
           }
          ],
          "heatmapgl": [
           {
            "colorbar": {
             "outlinewidth": 0,
             "ticks": ""
            },
            "colorscale": [
             [
              0,
              "#0d0887"
             ],
             [
              0.1111111111111111,
              "#46039f"
             ],
             [
              0.2222222222222222,
              "#7201a8"
             ],
             [
              0.3333333333333333,
              "#9c179e"
             ],
             [
              0.4444444444444444,
              "#bd3786"
             ],
             [
              0.5555555555555556,
              "#d8576b"
             ],
             [
              0.6666666666666666,
              "#ed7953"
             ],
             [
              0.7777777777777778,
              "#fb9f3a"
             ],
             [
              0.8888888888888888,
              "#fdca26"
             ],
             [
              1,
              "#f0f921"
             ]
            ],
            "type": "heatmapgl"
           }
          ],
          "histogram": [
           {
            "marker": {
             "pattern": {
              "fillmode": "overlay",
              "size": 10,
              "solidity": 0.2
             }
            },
            "type": "histogram"
           }
          ],
          "histogram2d": [
           {
            "colorbar": {
             "outlinewidth": 0,
             "ticks": ""
            },
            "colorscale": [
             [
              0,
              "#0d0887"
             ],
             [
              0.1111111111111111,
              "#46039f"
             ],
             [
              0.2222222222222222,
              "#7201a8"
             ],
             [
              0.3333333333333333,
              "#9c179e"
             ],
             [
              0.4444444444444444,
              "#bd3786"
             ],
             [
              0.5555555555555556,
              "#d8576b"
             ],
             [
              0.6666666666666666,
              "#ed7953"
             ],
             [
              0.7777777777777778,
              "#fb9f3a"
             ],
             [
              0.8888888888888888,
              "#fdca26"
             ],
             [
              1,
              "#f0f921"
             ]
            ],
            "type": "histogram2d"
           }
          ],
          "histogram2dcontour": [
           {
            "colorbar": {
             "outlinewidth": 0,
             "ticks": ""
            },
            "colorscale": [
             [
              0,
              "#0d0887"
             ],
             [
              0.1111111111111111,
              "#46039f"
             ],
             [
              0.2222222222222222,
              "#7201a8"
             ],
             [
              0.3333333333333333,
              "#9c179e"
             ],
             [
              0.4444444444444444,
              "#bd3786"
             ],
             [
              0.5555555555555556,
              "#d8576b"
             ],
             [
              0.6666666666666666,
              "#ed7953"
             ],
             [
              0.7777777777777778,
              "#fb9f3a"
             ],
             [
              0.8888888888888888,
              "#fdca26"
             ],
             [
              1,
              "#f0f921"
             ]
            ],
            "type": "histogram2dcontour"
           }
          ],
          "mesh3d": [
           {
            "colorbar": {
             "outlinewidth": 0,
             "ticks": ""
            },
            "type": "mesh3d"
           }
          ],
          "parcoords": [
           {
            "line": {
             "colorbar": {
              "outlinewidth": 0,
              "ticks": ""
             }
            },
            "type": "parcoords"
           }
          ],
          "pie": [
           {
            "automargin": true,
            "type": "pie"
           }
          ],
          "scatter": [
           {
            "fillpattern": {
             "fillmode": "overlay",
             "size": 10,
             "solidity": 0.2
            },
            "type": "scatter"
           }
          ],
          "scatter3d": [
           {
            "line": {
             "colorbar": {
              "outlinewidth": 0,
              "ticks": ""
             }
            },
            "marker": {
             "colorbar": {
              "outlinewidth": 0,
              "ticks": ""
             }
            },
            "type": "scatter3d"
           }
          ],
          "scattercarpet": [
           {
            "marker": {
             "colorbar": {
              "outlinewidth": 0,
              "ticks": ""
             }
            },
            "type": "scattercarpet"
           }
          ],
          "scattergeo": [
           {
            "marker": {
             "colorbar": {
              "outlinewidth": 0,
              "ticks": ""
             }
            },
            "type": "scattergeo"
           }
          ],
          "scattergl": [
           {
            "marker": {
             "colorbar": {
              "outlinewidth": 0,
              "ticks": ""
             }
            },
            "type": "scattergl"
           }
          ],
          "scattermapbox": [
           {
            "marker": {
             "colorbar": {
              "outlinewidth": 0,
              "ticks": ""
             }
            },
            "type": "scattermapbox"
           }
          ],
          "scatterpolar": [
           {
            "marker": {
             "colorbar": {
              "outlinewidth": 0,
              "ticks": ""
             }
            },
            "type": "scatterpolar"
           }
          ],
          "scatterpolargl": [
           {
            "marker": {
             "colorbar": {
              "outlinewidth": 0,
              "ticks": ""
             }
            },
            "type": "scatterpolargl"
           }
          ],
          "scatterternary": [
           {
            "marker": {
             "colorbar": {
              "outlinewidth": 0,
              "ticks": ""
             }
            },
            "type": "scatterternary"
           }
          ],
          "surface": [
           {
            "colorbar": {
             "outlinewidth": 0,
             "ticks": ""
            },
            "colorscale": [
             [
              0,
              "#0d0887"
             ],
             [
              0.1111111111111111,
              "#46039f"
             ],
             [
              0.2222222222222222,
              "#7201a8"
             ],
             [
              0.3333333333333333,
              "#9c179e"
             ],
             [
              0.4444444444444444,
              "#bd3786"
             ],
             [
              0.5555555555555556,
              "#d8576b"
             ],
             [
              0.6666666666666666,
              "#ed7953"
             ],
             [
              0.7777777777777778,
              "#fb9f3a"
             ],
             [
              0.8888888888888888,
              "#fdca26"
             ],
             [
              1,
              "#f0f921"
             ]
            ],
            "type": "surface"
           }
          ],
          "table": [
           {
            "cells": {
             "fill": {
              "color": "#EBF0F8"
             },
             "line": {
              "color": "white"
             }
            },
            "header": {
             "fill": {
              "color": "#C8D4E3"
             },
             "line": {
              "color": "white"
             }
            },
            "type": "table"
           }
          ]
         },
         "layout": {
          "annotationdefaults": {
           "arrowcolor": "#2a3f5f",
           "arrowhead": 0,
           "arrowwidth": 1
          },
          "autotypenumbers": "strict",
          "coloraxis": {
           "colorbar": {
            "outlinewidth": 0,
            "ticks": ""
           }
          },
          "colorscale": {
           "diverging": [
            [
             0,
             "#8e0152"
            ],
            [
             0.1,
             "#c51b7d"
            ],
            [
             0.2,
             "#de77ae"
            ],
            [
             0.3,
             "#f1b6da"
            ],
            [
             0.4,
             "#fde0ef"
            ],
            [
             0.5,
             "#f7f7f7"
            ],
            [
             0.6,
             "#e6f5d0"
            ],
            [
             0.7,
             "#b8e186"
            ],
            [
             0.8,
             "#7fbc41"
            ],
            [
             0.9,
             "#4d9221"
            ],
            [
             1,
             "#276419"
            ]
           ],
           "sequential": [
            [
             0,
             "#0d0887"
            ],
            [
             0.1111111111111111,
             "#46039f"
            ],
            [
             0.2222222222222222,
             "#7201a8"
            ],
            [
             0.3333333333333333,
             "#9c179e"
            ],
            [
             0.4444444444444444,
             "#bd3786"
            ],
            [
             0.5555555555555556,
             "#d8576b"
            ],
            [
             0.6666666666666666,
             "#ed7953"
            ],
            [
             0.7777777777777778,
             "#fb9f3a"
            ],
            [
             0.8888888888888888,
             "#fdca26"
            ],
            [
             1,
             "#f0f921"
            ]
           ],
           "sequentialminus": [
            [
             0,
             "#0d0887"
            ],
            [
             0.1111111111111111,
             "#46039f"
            ],
            [
             0.2222222222222222,
             "#7201a8"
            ],
            [
             0.3333333333333333,
             "#9c179e"
            ],
            [
             0.4444444444444444,
             "#bd3786"
            ],
            [
             0.5555555555555556,
             "#d8576b"
            ],
            [
             0.6666666666666666,
             "#ed7953"
            ],
            [
             0.7777777777777778,
             "#fb9f3a"
            ],
            [
             0.8888888888888888,
             "#fdca26"
            ],
            [
             1,
             "#f0f921"
            ]
           ]
          },
          "colorway": [
           "#636efa",
           "#EF553B",
           "#00cc96",
           "#ab63fa",
           "#FFA15A",
           "#19d3f3",
           "#FF6692",
           "#B6E880",
           "#FF97FF",
           "#FECB52"
          ],
          "font": {
           "color": "#2a3f5f"
          },
          "geo": {
           "bgcolor": "white",
           "lakecolor": "white",
           "landcolor": "#E5ECF6",
           "showlakes": true,
           "showland": true,
           "subunitcolor": "white"
          },
          "hoverlabel": {
           "align": "left"
          },
          "hovermode": "closest",
          "mapbox": {
           "style": "light"
          },
          "paper_bgcolor": "white",
          "plot_bgcolor": "#E5ECF6",
          "polar": {
           "angularaxis": {
            "gridcolor": "white",
            "linecolor": "white",
            "ticks": ""
           },
           "bgcolor": "#E5ECF6",
           "radialaxis": {
            "gridcolor": "white",
            "linecolor": "white",
            "ticks": ""
           }
          },
          "scene": {
           "xaxis": {
            "backgroundcolor": "#E5ECF6",
            "gridcolor": "white",
            "gridwidth": 2,
            "linecolor": "white",
            "showbackground": true,
            "ticks": "",
            "zerolinecolor": "white"
           },
           "yaxis": {
            "backgroundcolor": "#E5ECF6",
            "gridcolor": "white",
            "gridwidth": 2,
            "linecolor": "white",
            "showbackground": true,
            "ticks": "",
            "zerolinecolor": "white"
           },
           "zaxis": {
            "backgroundcolor": "#E5ECF6",
            "gridcolor": "white",
            "gridwidth": 2,
            "linecolor": "white",
            "showbackground": true,
            "ticks": "",
            "zerolinecolor": "white"
           }
          },
          "shapedefaults": {
           "line": {
            "color": "#2a3f5f"
           }
          },
          "ternary": {
           "aaxis": {
            "gridcolor": "white",
            "linecolor": "white",
            "ticks": ""
           },
           "baxis": {
            "gridcolor": "white",
            "linecolor": "white",
            "ticks": ""
           },
           "bgcolor": "#E5ECF6",
           "caxis": {
            "gridcolor": "white",
            "linecolor": "white",
            "ticks": ""
           }
          },
          "title": {
           "x": 0.05
          },
          "xaxis": {
           "automargin": true,
           "gridcolor": "white",
           "linecolor": "white",
           "ticks": "",
           "title": {
            "standoff": 15
           },
           "zerolinecolor": "white",
           "zerolinewidth": 2
          },
          "yaxis": {
           "automargin": true,
           "gridcolor": "white",
           "linecolor": "white",
           "ticks": "",
           "title": {
            "standoff": 15
           },
           "zerolinecolor": "white",
           "zerolinewidth": 2
          }
         }
        },
        "title": {
         "text": "Proporção de Transações por Tipo"
        },
        "width": 700
       }
      }
     },
     "metadata": {},
     "output_type": "display_data"
    }
   ],
   "source": [
    "fig = go.Figure(data=[go.Pie(labels=tipo.tipo, values=tipo.quantidade, hole=.3, marker_colors=colors, \n",
    "                textfont_size=14, textinfo='label+percent')])\n",
    "fig.update_layout( width=700, height=500, title='Proporção de Transações por Tipo')\n",
    "fig.show()"
   ]
  },
  {
   "cell_type": "markdown",
   "metadata": {},
   "source": [
    "### Método de pagamento"
   ]
  },
  {
   "cell_type": "code",
   "execution_count": 35,
   "metadata": {},
   "outputs": [
    {
     "data": {
      "text/plain": [
       "tipo pagamento\n",
       "cc     4\n",
       "ch     8\n",
       "es    15\n",
       "Name: idTransação, dtype: int64"
      ]
     },
     "execution_count": 35,
     "metadata": {},
     "output_type": "execute_result"
    }
   ],
   "source": [
    "df_fact.groupby(\"tipo pagamento\")['idTransação'].nunique()"
   ]
  },
  {
   "cell_type": "code",
   "execution_count": 36,
   "metadata": {},
   "outputs": [
    {
     "data": {
      "text/plain": [
       "tipo pagamento\n",
       "cc     74\n",
       "ch    161\n",
       "es    213\n",
       "Name: valorTotal, dtype: int64"
      ]
     },
     "execution_count": 36,
     "metadata": {},
     "output_type": "execute_result"
    }
   ],
   "source": [
    "df_fact.drop_duplicates(subset='idTransação').groupby(\"tipo pagamento\")['valorTotal'].sum()"
   ]
  },
  {
   "cell_type": "markdown",
   "metadata": {},
   "source": [
    "# Define Association Rules"
   ]
  },
  {
   "cell_type": "code",
   "execution_count": 37,
   "metadata": {},
   "outputs": [
    {
     "data": {
      "text/html": [
       "<div>\n",
       "<style scoped>\n",
       "    .dataframe tbody tr th:only-of-type {\n",
       "        vertical-align: middle;\n",
       "    }\n",
       "\n",
       "    .dataframe tbody tr th {\n",
       "        vertical-align: top;\n",
       "    }\n",
       "\n",
       "    .dataframe thead th {\n",
       "        text-align: right;\n",
       "    }\n",
       "</style>\n",
       "<table border=\"1\" class=\"dataframe\">\n",
       "  <thead>\n",
       "    <tr style=\"text-align: right;\">\n",
       "      <th></th>\n",
       "      <th>descrição_ariel total</th>\n",
       "      <th>descrição_banana caturra</th>\n",
       "      <th>descrição_banana prata</th>\n",
       "      <th>descrição_coca</th>\n",
       "      <th>descrição_coca lemon light</th>\n",
       "      <th>descrição_coca light</th>\n",
       "      <th>descrição_limao Taiti</th>\n",
       "      <th>descrição_limão siciliano</th>\n",
       "      <th>descrição_omo collors</th>\n",
       "      <th>descrição_omo progress</th>\n",
       "    </tr>\n",
       "    <tr>\n",
       "      <th>idTransação</th>\n",
       "      <th></th>\n",
       "      <th></th>\n",
       "      <th></th>\n",
       "      <th></th>\n",
       "      <th></th>\n",
       "      <th></th>\n",
       "      <th></th>\n",
       "      <th></th>\n",
       "      <th></th>\n",
       "      <th></th>\n",
       "    </tr>\n",
       "  </thead>\n",
       "  <tbody>\n",
       "    <tr>\n",
       "      <th>1</th>\n",
       "      <td>1</td>\n",
       "      <td>0</td>\n",
       "      <td>1</td>\n",
       "      <td>0</td>\n",
       "      <td>0</td>\n",
       "      <td>0</td>\n",
       "      <td>0</td>\n",
       "      <td>1</td>\n",
       "      <td>0</td>\n",
       "      <td>0</td>\n",
       "    </tr>\n",
       "    <tr>\n",
       "      <th>2</th>\n",
       "      <td>1</td>\n",
       "      <td>0</td>\n",
       "      <td>0</td>\n",
       "      <td>0</td>\n",
       "      <td>0</td>\n",
       "      <td>0</td>\n",
       "      <td>0</td>\n",
       "      <td>0</td>\n",
       "      <td>0</td>\n",
       "      <td>0</td>\n",
       "    </tr>\n",
       "    <tr>\n",
       "      <th>3</th>\n",
       "      <td>1</td>\n",
       "      <td>1</td>\n",
       "      <td>0</td>\n",
       "      <td>0</td>\n",
       "      <td>0</td>\n",
       "      <td>0</td>\n",
       "      <td>0</td>\n",
       "      <td>0</td>\n",
       "      <td>0</td>\n",
       "      <td>0</td>\n",
       "    </tr>\n",
       "    <tr>\n",
       "      <th>5</th>\n",
       "      <td>0</td>\n",
       "      <td>1</td>\n",
       "      <td>0</td>\n",
       "      <td>1</td>\n",
       "      <td>0</td>\n",
       "      <td>0</td>\n",
       "      <td>0</td>\n",
       "      <td>0</td>\n",
       "      <td>0</td>\n",
       "      <td>0</td>\n",
       "    </tr>\n",
       "    <tr>\n",
       "      <th>6</th>\n",
       "      <td>1</td>\n",
       "      <td>0</td>\n",
       "      <td>1</td>\n",
       "      <td>0</td>\n",
       "      <td>0</td>\n",
       "      <td>0</td>\n",
       "      <td>1</td>\n",
       "      <td>0</td>\n",
       "      <td>0</td>\n",
       "      <td>0</td>\n",
       "    </tr>\n",
       "  </tbody>\n",
       "</table>\n",
       "</div>"
      ],
      "text/plain": [
       "             descrição_ariel total  descrição_banana caturra  \\\n",
       "idTransação                                                    \n",
       "1                                1                         0   \n",
       "2                                1                         0   \n",
       "3                                1                         1   \n",
       "5                                0                         1   \n",
       "6                                1                         0   \n",
       "\n",
       "             descrição_banana prata  descrição_coca  \\\n",
       "idTransação                                           \n",
       "1                                 1               0   \n",
       "2                                 0               0   \n",
       "3                                 0               0   \n",
       "5                                 0               1   \n",
       "6                                 1               0   \n",
       "\n",
       "             descrição_coca lemon light  descrição_coca light  \\\n",
       "idTransação                                                     \n",
       "1                                     0                     0   \n",
       "2                                     0                     0   \n",
       "3                                     0                     0   \n",
       "5                                     0                     0   \n",
       "6                                     0                     0   \n",
       "\n",
       "             descrição_limao Taiti  descrição_limão siciliano  \\\n",
       "idTransação                                                     \n",
       "1                                0                          1   \n",
       "2                                0                          0   \n",
       "3                                0                          0   \n",
       "5                                0                          0   \n",
       "6                                1                          0   \n",
       "\n",
       "             descrição_omo collors  descrição_omo progress  \n",
       "idTransação                                                 \n",
       "1                                0                       0  \n",
       "2                                0                       0  \n",
       "3                                0                       0  \n",
       "5                                0                       0  \n",
       "6                                0                       0  "
      ]
     },
     "execution_count": 37,
     "metadata": {},
     "output_type": "execute_result"
    }
   ],
   "source": [
    "df_description = format_data_to_apriori(df_fact, ['idTransação', 'descrição'])\n",
    "df_description.head()"
   ]
  },
  {
   "cell_type": "code",
   "execution_count": 38,
   "metadata": {},
   "outputs": [],
   "source": [
    "assert df_description.shape[0] == df_fact.idTransação.nunique(), \"Erro ao transformar as transações para entrada do algoritmo.\""
   ]
  },
  {
   "cell_type": "code",
   "execution_count": 39,
   "metadata": {},
   "outputs": [
    {
     "data": {
      "text/html": [
       "<div>\n",
       "<style scoped>\n",
       "    .dataframe tbody tr th:only-of-type {\n",
       "        vertical-align: middle;\n",
       "    }\n",
       "\n",
       "    .dataframe tbody tr th {\n",
       "        vertical-align: top;\n",
       "    }\n",
       "\n",
       "    .dataframe thead th {\n",
       "        text-align: right;\n",
       "    }\n",
       "</style>\n",
       "<table border=\"1\" class=\"dataframe\">\n",
       "  <thead>\n",
       "    <tr style=\"text-align: right;\">\n",
       "      <th></th>\n",
       "      <th>antecedents</th>\n",
       "      <th>consequents</th>\n",
       "      <th>antecedent support</th>\n",
       "      <th>consequent support</th>\n",
       "      <th>support</th>\n",
       "      <th>confidence</th>\n",
       "      <th>lift</th>\n",
       "      <th>leverage</th>\n",
       "      <th>conviction</th>\n",
       "    </tr>\n",
       "  </thead>\n",
       "  <tbody>\n",
       "    <tr>\n",
       "      <th>8</th>\n",
       "      <td>(descrição_coca light, descrição_banana caturra)</td>\n",
       "      <td>(descrição_limão siciliano)</td>\n",
       "      <td>0.148148</td>\n",
       "      <td>0.333333</td>\n",
       "      <td>0.148148</td>\n",
       "      <td>1.000000</td>\n",
       "      <td>3.000</td>\n",
       "      <td>0.098765</td>\n",
       "      <td>inf</td>\n",
       "    </tr>\n",
       "    <tr>\n",
       "      <th>9</th>\n",
       "      <td>(descrição_coca light, descrição_limão siciliano)</td>\n",
       "      <td>(descrição_banana caturra)</td>\n",
       "      <td>0.148148</td>\n",
       "      <td>0.370370</td>\n",
       "      <td>0.148148</td>\n",
       "      <td>1.000000</td>\n",
       "      <td>2.700</td>\n",
       "      <td>0.093278</td>\n",
       "      <td>inf</td>\n",
       "    </tr>\n",
       "    <tr>\n",
       "      <th>10</th>\n",
       "      <td>(descrição_banana caturra, descrição_limão sic...</td>\n",
       "      <td>(descrição_coca light)</td>\n",
       "      <td>0.148148</td>\n",
       "      <td>0.444444</td>\n",
       "      <td>0.148148</td>\n",
       "      <td>1.000000</td>\n",
       "      <td>2.250</td>\n",
       "      <td>0.082305</td>\n",
       "      <td>inf</td>\n",
       "    </tr>\n",
       "    <tr>\n",
       "      <th>16</th>\n",
       "      <td>(descrição_omo progress, descrição_limao Taiti)</td>\n",
       "      <td>(descrição_coca light)</td>\n",
       "      <td>0.111111</td>\n",
       "      <td>0.444444</td>\n",
       "      <td>0.111111</td>\n",
       "      <td>1.000000</td>\n",
       "      <td>2.250</td>\n",
       "      <td>0.061728</td>\n",
       "      <td>inf</td>\n",
       "    </tr>\n",
       "    <tr>\n",
       "      <th>6</th>\n",
       "      <td>(descrição_omo progress)</td>\n",
       "      <td>(descrição_coca light)</td>\n",
       "      <td>0.222222</td>\n",
       "      <td>0.444444</td>\n",
       "      <td>0.185185</td>\n",
       "      <td>0.833333</td>\n",
       "      <td>1.875</td>\n",
       "      <td>0.086420</td>\n",
       "      <td>3.333333</td>\n",
       "    </tr>\n",
       "  </tbody>\n",
       "</table>\n",
       "</div>"
      ],
      "text/plain": [
       "                                          antecedents  \\\n",
       "8    (descrição_coca light, descrição_banana caturra)   \n",
       "9   (descrição_coca light, descrição_limão siciliano)   \n",
       "10  (descrição_banana caturra, descrição_limão sic...   \n",
       "16    (descrição_omo progress, descrição_limao Taiti)   \n",
       "6                            (descrição_omo progress)   \n",
       "\n",
       "                    consequents  antecedent support  consequent support  \\\n",
       "8   (descrição_limão siciliano)            0.148148            0.333333   \n",
       "9    (descrição_banana caturra)            0.148148            0.370370   \n",
       "10       (descrição_coca light)            0.148148            0.444444   \n",
       "16       (descrição_coca light)            0.111111            0.444444   \n",
       "6        (descrição_coca light)            0.222222            0.444444   \n",
       "\n",
       "     support  confidence   lift  leverage  conviction  \n",
       "8   0.148148    1.000000  3.000  0.098765         inf  \n",
       "9   0.148148    1.000000  2.700  0.093278         inf  \n",
       "10  0.148148    1.000000  2.250  0.082305         inf  \n",
       "16  0.111111    1.000000  2.250  0.061728         inf  \n",
       "6   0.185185    0.833333  1.875  0.086420    3.333333  "
      ]
     },
     "execution_count": 39,
     "metadata": {},
     "output_type": "execute_result"
    }
   ],
   "source": [
    "frequency_description, rules_description = generate_association_rules(df_description, min_sup=0.1, metric_use='confidence', threshold=0.5)\n",
    "rules_description.head()"
   ]
  },
  {
   "cell_type": "code",
   "execution_count": 40,
   "metadata": {},
   "outputs": [
    {
     "data": {
      "text/html": [
       "<div>\n",
       "<style scoped>\n",
       "    .dataframe tbody tr th:only-of-type {\n",
       "        vertical-align: middle;\n",
       "    }\n",
       "\n",
       "    .dataframe tbody tr th {\n",
       "        vertical-align: top;\n",
       "    }\n",
       "\n",
       "    .dataframe thead th {\n",
       "        text-align: right;\n",
       "    }\n",
       "</style>\n",
       "<table border=\"1\" class=\"dataframe\">\n",
       "  <thead>\n",
       "    <tr style=\"text-align: right;\">\n",
       "      <th></th>\n",
       "      <th>support</th>\n",
       "      <th>itemsets</th>\n",
       "      <th>lenght</th>\n",
       "    </tr>\n",
       "  </thead>\n",
       "  <tbody>\n",
       "    <tr>\n",
       "      <th>0</th>\n",
       "      <td>0.296296</td>\n",
       "      <td>[descrição_ariel total]</td>\n",
       "      <td>1</td>\n",
       "    </tr>\n",
       "    <tr>\n",
       "      <th>1</th>\n",
       "      <td>0.370370</td>\n",
       "      <td>[descrição_banana caturra]</td>\n",
       "      <td>1</td>\n",
       "    </tr>\n",
       "    <tr>\n",
       "      <th>2</th>\n",
       "      <td>0.444444</td>\n",
       "      <td>[descrição_banana prata]</td>\n",
       "      <td>1</td>\n",
       "    </tr>\n",
       "    <tr>\n",
       "      <th>3</th>\n",
       "      <td>0.185185</td>\n",
       "      <td>[descrição_coca]</td>\n",
       "      <td>1</td>\n",
       "    </tr>\n",
       "    <tr>\n",
       "      <th>4</th>\n",
       "      <td>0.222222</td>\n",
       "      <td>[descrição_coca lemon light]</td>\n",
       "      <td>1</td>\n",
       "    </tr>\n",
       "    <tr>\n",
       "      <th>5</th>\n",
       "      <td>0.444444</td>\n",
       "      <td>[descrição_coca light]</td>\n",
       "      <td>1</td>\n",
       "    </tr>\n",
       "    <tr>\n",
       "      <th>6</th>\n",
       "      <td>0.333333</td>\n",
       "      <td>[descrição_limao Taiti]</td>\n",
       "      <td>1</td>\n",
       "    </tr>\n",
       "    <tr>\n",
       "      <th>7</th>\n",
       "      <td>0.333333</td>\n",
       "      <td>[descrição_limão siciliano]</td>\n",
       "      <td>1</td>\n",
       "    </tr>\n",
       "    <tr>\n",
       "      <th>8</th>\n",
       "      <td>0.296296</td>\n",
       "      <td>[descrição_omo collors]</td>\n",
       "      <td>1</td>\n",
       "    </tr>\n",
       "    <tr>\n",
       "      <th>9</th>\n",
       "      <td>0.222222</td>\n",
       "      <td>[descrição_omo progress]</td>\n",
       "      <td>1</td>\n",
       "    </tr>\n",
       "  </tbody>\n",
       "</table>\n",
       "</div>"
      ],
      "text/plain": [
       "    support                      itemsets  lenght\n",
       "0  0.296296       [descrição_ariel total]       1\n",
       "1  0.370370    [descrição_banana caturra]       1\n",
       "2  0.444444      [descrição_banana prata]       1\n",
       "3  0.185185              [descrição_coca]       1\n",
       "4  0.222222  [descrição_coca lemon light]       1\n",
       "5  0.444444        [descrição_coca light]       1\n",
       "6  0.333333       [descrição_limao Taiti]       1\n",
       "7  0.333333   [descrição_limão siciliano]       1\n",
       "8  0.296296       [descrição_omo collors]       1\n",
       "9  0.222222      [descrição_omo progress]       1"
      ]
     },
     "execution_count": 40,
     "metadata": {},
     "output_type": "execute_result"
    }
   ],
   "source": [
    "frequency_description['itemsets'] = frequency_description.itemsets.apply(lambda x: list(x))\n",
    "frequency_description['lenght'] = frequency_description.itemsets.apply(lambda x : len(x))\n",
    "aux = frequency_description.query(\"lenght == 1\")\n",
    "aux\n"
   ]
  },
  {
   "cell_type": "code",
   "execution_count": 41,
   "metadata": {},
   "outputs": [
    {
     "data": {
      "text/html": [
       "<div>\n",
       "<style scoped>\n",
       "    .dataframe tbody tr th:only-of-type {\n",
       "        vertical-align: middle;\n",
       "    }\n",
       "\n",
       "    .dataframe tbody tr th {\n",
       "        vertical-align: top;\n",
       "    }\n",
       "\n",
       "    .dataframe thead th {\n",
       "        text-align: right;\n",
       "    }\n",
       "</style>\n",
       "<table border=\"1\" class=\"dataframe\">\n",
       "  <thead>\n",
       "    <tr style=\"text-align: right;\">\n",
       "      <th></th>\n",
       "      <th>idTransação</th>\n",
       "      <th>idItem</th>\n",
       "      <th>marca</th>\n",
       "      <th>descrição</th>\n",
       "      <th>tipo</th>\n",
       "      <th>valorTotal</th>\n",
       "      <th>tipo pagamento</th>\n",
       "    </tr>\n",
       "  </thead>\n",
       "  <tbody>\n",
       "    <tr>\n",
       "      <th>70</th>\n",
       "      <td>5</td>\n",
       "      <td>5</td>\n",
       "      <td>coca</td>\n",
       "      <td>coca</td>\n",
       "      <td>refrigerante</td>\n",
       "      <td>15</td>\n",
       "      <td>es</td>\n",
       "    </tr>\n",
       "    <tr>\n",
       "      <th>66</th>\n",
       "      <td>18</td>\n",
       "      <td>5</td>\n",
       "      <td>coca</td>\n",
       "      <td>coca</td>\n",
       "      <td>refrigerante</td>\n",
       "      <td>12</td>\n",
       "      <td>es</td>\n",
       "    </tr>\n",
       "    <tr>\n",
       "      <th>67</th>\n",
       "      <td>21</td>\n",
       "      <td>5</td>\n",
       "      <td>coca</td>\n",
       "      <td>coca</td>\n",
       "      <td>refrigerante</td>\n",
       "      <td>12</td>\n",
       "      <td>es</td>\n",
       "    </tr>\n",
       "    <tr>\n",
       "      <th>68</th>\n",
       "      <td>29</td>\n",
       "      <td>5</td>\n",
       "      <td>coca</td>\n",
       "      <td>coca</td>\n",
       "      <td>refrigerante</td>\n",
       "      <td>12</td>\n",
       "      <td>es</td>\n",
       "    </tr>\n",
       "    <tr>\n",
       "      <th>69</th>\n",
       "      <td>32</td>\n",
       "      <td>5</td>\n",
       "      <td>coca</td>\n",
       "      <td>coca</td>\n",
       "      <td>refrigerante</td>\n",
       "      <td>30</td>\n",
       "      <td>ch</td>\n",
       "    </tr>\n",
       "  </tbody>\n",
       "</table>\n",
       "</div>"
      ],
      "text/plain": [
       "    idTransação  idItem marca descrição          tipo  valorTotal  \\\n",
       "70            5       5  coca      coca  refrigerante          15   \n",
       "66           18       5  coca      coca  refrigerante          12   \n",
       "67           21       5  coca      coca  refrigerante          12   \n",
       "68           29       5  coca      coca  refrigerante          12   \n",
       "69           32       5  coca      coca  refrigerante          30   \n",
       "\n",
       "   tipo pagamento  \n",
       "70             es  \n",
       "66             es  \n",
       "67             es  \n",
       "68             es  \n",
       "69             ch  "
      ]
     },
     "execution_count": 41,
     "metadata": {},
     "output_type": "execute_result"
    }
   ],
   "source": [
    "df_fact[df_fact['descrição'] == \"coca\"]"
   ]
  },
  {
   "cell_type": "code",
   "execution_count": 42,
   "metadata": {},
   "outputs": [
    {
     "data": {
      "text/html": [
       "<div>\n",
       "<style scoped>\n",
       "    .dataframe tbody tr th:only-of-type {\n",
       "        vertical-align: middle;\n",
       "    }\n",
       "\n",
       "    .dataframe tbody tr th {\n",
       "        vertical-align: top;\n",
       "    }\n",
       "\n",
       "    .dataframe thead th {\n",
       "        text-align: right;\n",
       "    }\n",
       "</style>\n",
       "<table border=\"1\" class=\"dataframe\">\n",
       "  <thead>\n",
       "    <tr style=\"text-align: right;\">\n",
       "      <th></th>\n",
       "      <th>rules</th>\n",
       "      <th>support</th>\n",
       "      <th>confidence</th>\n",
       "    </tr>\n",
       "  </thead>\n",
       "  <tbody>\n",
       "    <tr>\n",
       "      <th>8</th>\n",
       "      <td>{coca light, banana caturra} -&gt; {limão siciliano}</td>\n",
       "      <td>0.148148</td>\n",
       "      <td>1.000000</td>\n",
       "    </tr>\n",
       "    <tr>\n",
       "      <th>9</th>\n",
       "      <td>{coca light, limão siciliano} -&gt; {banana caturra}</td>\n",
       "      <td>0.148148</td>\n",
       "      <td>1.000000</td>\n",
       "    </tr>\n",
       "    <tr>\n",
       "      <th>10</th>\n",
       "      <td>{banana caturra, limão siciliano} -&gt; {coca light}</td>\n",
       "      <td>0.148148</td>\n",
       "      <td>1.000000</td>\n",
       "    </tr>\n",
       "    <tr>\n",
       "      <th>16</th>\n",
       "      <td>{omo progress, limao Taiti} -&gt; {coca light}</td>\n",
       "      <td>0.111111</td>\n",
       "      <td>1.000000</td>\n",
       "    </tr>\n",
       "    <tr>\n",
       "      <th>6</th>\n",
       "      <td>{omo progress} -&gt; {coca light}</td>\n",
       "      <td>0.185185</td>\n",
       "      <td>0.833333</td>\n",
       "    </tr>\n",
       "    <tr>\n",
       "      <th>12</th>\n",
       "      <td>{banana prata, limao Taiti} -&gt; {coca light}</td>\n",
       "      <td>0.111111</td>\n",
       "      <td>0.750000</td>\n",
       "    </tr>\n",
       "    <tr>\n",
       "      <th>13</th>\n",
       "      <td>{coca light, limao Taiti} -&gt; {banana prata}</td>\n",
       "      <td>0.111111</td>\n",
       "      <td>0.750000</td>\n",
       "    </tr>\n",
       "    <tr>\n",
       "      <th>15</th>\n",
       "      <td>{coca light, limao Taiti} -&gt; {omo progress}</td>\n",
       "      <td>0.111111</td>\n",
       "      <td>0.750000</td>\n",
       "    </tr>\n",
       "    <tr>\n",
       "      <th>1</th>\n",
       "      <td>{coca} -&gt; {banana caturra}</td>\n",
       "      <td>0.111111</td>\n",
       "      <td>0.600000</td>\n",
       "    </tr>\n",
       "    <tr>\n",
       "      <th>11</th>\n",
       "      <td>{banana prata, coca light} -&gt; {limao Taiti}</td>\n",
       "      <td>0.111111</td>\n",
       "      <td>0.600000</td>\n",
       "    </tr>\n",
       "    <tr>\n",
       "      <th>14</th>\n",
       "      <td>{coca light, omo progress} -&gt; {limao Taiti}</td>\n",
       "      <td>0.111111</td>\n",
       "      <td>0.600000</td>\n",
       "    </tr>\n",
       "    <tr>\n",
       "      <th>2</th>\n",
       "      <td>{limão siciliano} -&gt; {banana prata}</td>\n",
       "      <td>0.185185</td>\n",
       "      <td>0.555556</td>\n",
       "    </tr>\n",
       "    <tr>\n",
       "      <th>0</th>\n",
       "      <td>{ariel total} -&gt; {limao Taiti}</td>\n",
       "      <td>0.148148</td>\n",
       "      <td>0.500000</td>\n",
       "    </tr>\n",
       "    <tr>\n",
       "      <th>3</th>\n",
       "      <td>{omo collors} -&gt; {banana prata}</td>\n",
       "      <td>0.148148</td>\n",
       "      <td>0.500000</td>\n",
       "    </tr>\n",
       "    <tr>\n",
       "      <th>5</th>\n",
       "      <td>{omo collors} -&gt; {coca light}</td>\n",
       "      <td>0.148148</td>\n",
       "      <td>0.500000</td>\n",
       "    </tr>\n",
       "    <tr>\n",
       "      <th>4</th>\n",
       "      <td>{coca lemon light} -&gt; {limao Taiti}</td>\n",
       "      <td>0.111111</td>\n",
       "      <td>0.500000</td>\n",
       "    </tr>\n",
       "    <tr>\n",
       "      <th>7</th>\n",
       "      <td>{omo progress} -&gt; {limao Taiti}</td>\n",
       "      <td>0.111111</td>\n",
       "      <td>0.500000</td>\n",
       "    </tr>\n",
       "    <tr>\n",
       "      <th>17</th>\n",
       "      <td>{omo progress} -&gt; {coca light, limao Taiti}</td>\n",
       "      <td>0.111111</td>\n",
       "      <td>0.500000</td>\n",
       "    </tr>\n",
       "  </tbody>\n",
       "</table>\n",
       "</div>"
      ],
      "text/plain": [
       "                                                rules   support  confidence\n",
       "8   {coca light, banana caturra} -> {limão siciliano}  0.148148    1.000000\n",
       "9   {coca light, limão siciliano} -> {banana caturra}  0.148148    1.000000\n",
       "10  {banana caturra, limão siciliano} -> {coca light}  0.148148    1.000000\n",
       "16        {omo progress, limao Taiti} -> {coca light}  0.111111    1.000000\n",
       "6                      {omo progress} -> {coca light}  0.185185    0.833333\n",
       "12        {banana prata, limao Taiti} -> {coca light}  0.111111    0.750000\n",
       "13        {coca light, limao Taiti} -> {banana prata}  0.111111    0.750000\n",
       "15        {coca light, limao Taiti} -> {omo progress}  0.111111    0.750000\n",
       "1                          {coca} -> {banana caturra}  0.111111    0.600000\n",
       "11        {banana prata, coca light} -> {limao Taiti}  0.111111    0.600000\n",
       "14        {coca light, omo progress} -> {limao Taiti}  0.111111    0.600000\n",
       "2                 {limão siciliano} -> {banana prata}  0.185185    0.555556\n",
       "0                      {ariel total} -> {limao Taiti}  0.148148    0.500000\n",
       "3                     {omo collors} -> {banana prata}  0.148148    0.500000\n",
       "5                       {omo collors} -> {coca light}  0.148148    0.500000\n",
       "4                 {coca lemon light} -> {limao Taiti}  0.111111    0.500000\n",
       "7                     {omo progress} -> {limao Taiti}  0.111111    0.500000\n",
       "17        {omo progress} -> {coca light, limao Taiti}  0.111111    0.500000"
      ]
     },
     "execution_count": 42,
     "metadata": {},
     "output_type": "execute_result"
    }
   ],
   "source": [
    "format_slide = rules_description[['antecedents', 'consequents', 'support', 'confidence']].copy()\n",
    "\n",
    "format_slide['antecedents'] = format_slide.antecedents.apply(lambda x: list(x))\n",
    "format_slide['consequents'] = format_slide.consequents.apply(lambda x: list(x))\n",
    "\n",
    "format_slide = format_slide.astype({'antecedents':str, 'consequents':str})\n",
    "\n",
    "format_slide.antecedents = format_slide.antecedents.apply( lambda x: treat_string(x) )\n",
    "format_slide.consequents = format_slide.consequents.apply( lambda x: treat_string(x) )\n",
    "\n",
    "format_slide['rules'] = format_slide['antecedents'] + \" -> \" + format_slide['consequents']\n",
    "\n",
    "format_slide[['rules', 'support', 'confidence']]"
   ]
  },
  {
   "cell_type": "markdown",
   "metadata": {},
   "source": [
    "# Estimated Transactions: if rules applied"
   ]
  },
  {
   "cell_type": "code",
   "execution_count": 43,
   "metadata": {},
   "outputs": [
    {
     "data": {
      "text/html": [
       "<div>\n",
       "<style scoped>\n",
       "    .dataframe tbody tr th:only-of-type {\n",
       "        vertical-align: middle;\n",
       "    }\n",
       "\n",
       "    .dataframe tbody tr th {\n",
       "        vertical-align: top;\n",
       "    }\n",
       "\n",
       "    .dataframe thead th {\n",
       "        text-align: right;\n",
       "    }\n",
       "</style>\n",
       "<table border=\"1\" class=\"dataframe\">\n",
       "  <thead>\n",
       "    <tr style=\"text-align: right;\">\n",
       "      <th></th>\n",
       "      <th>antecedents</th>\n",
       "      <th>consequents</th>\n",
       "      <th>potencial_transactions</th>\n",
       "      <th>total_antecedents</th>\n",
       "    </tr>\n",
       "  </thead>\n",
       "  <tbody>\n",
       "    <tr>\n",
       "      <th>7</th>\n",
       "      <td>[descrição_limão siciliano]</td>\n",
       "      <td>[descrição_banana prata]</td>\n",
       "      <td>4</td>\n",
       "      <td>9</td>\n",
       "    </tr>\n",
       "    <tr>\n",
       "      <th>8</th>\n",
       "      <td>[descrição_ariel total]</td>\n",
       "      <td>[descrição_limao Taiti]</td>\n",
       "      <td>4</td>\n",
       "      <td>8</td>\n",
       "    </tr>\n",
       "    <tr>\n",
       "      <th>9</th>\n",
       "      <td>[descrição_omo collors]</td>\n",
       "      <td>[descrição_banana prata]</td>\n",
       "      <td>4</td>\n",
       "      <td>8</td>\n",
       "    </tr>\n",
       "    <tr>\n",
       "      <th>10</th>\n",
       "      <td>[descrição_omo collors]</td>\n",
       "      <td>[descrição_coca light]</td>\n",
       "      <td>4</td>\n",
       "      <td>8</td>\n",
       "    </tr>\n",
       "    <tr>\n",
       "      <th>11</th>\n",
       "      <td>[descrição_coca lemon light]</td>\n",
       "      <td>[descrição_limao Taiti]</td>\n",
       "      <td>3</td>\n",
       "      <td>6</td>\n",
       "    </tr>\n",
       "    <tr>\n",
       "      <th>12</th>\n",
       "      <td>[descrição_omo progress]</td>\n",
       "      <td>[descrição_limao Taiti]</td>\n",
       "      <td>3</td>\n",
       "      <td>6</td>\n",
       "    </tr>\n",
       "    <tr>\n",
       "      <th>4</th>\n",
       "      <td>[descrição_coca]</td>\n",
       "      <td>[descrição_banana caturra]</td>\n",
       "      <td>2</td>\n",
       "      <td>5</td>\n",
       "    </tr>\n",
       "    <tr>\n",
       "      <th>5</th>\n",
       "      <td>[descrição_banana prata, descrição_coca light]</td>\n",
       "      <td>[descrição_limao Taiti]</td>\n",
       "      <td>2</td>\n",
       "      <td>5</td>\n",
       "    </tr>\n",
       "    <tr>\n",
       "      <th>6</th>\n",
       "      <td>[descrição_coca light, descrição_omo progress]</td>\n",
       "      <td>[descrição_limao Taiti]</td>\n",
       "      <td>2</td>\n",
       "      <td>5</td>\n",
       "    </tr>\n",
       "    <tr>\n",
       "      <th>0</th>\n",
       "      <td>[descrição_omo progress]</td>\n",
       "      <td>[descrição_coca light]</td>\n",
       "      <td>1</td>\n",
       "      <td>6</td>\n",
       "    </tr>\n",
       "    <tr>\n",
       "      <th>1</th>\n",
       "      <td>[descrição_banana prata, descrição_limao Taiti]</td>\n",
       "      <td>[descrição_coca light]</td>\n",
       "      <td>1</td>\n",
       "      <td>4</td>\n",
       "    </tr>\n",
       "    <tr>\n",
       "      <th>2</th>\n",
       "      <td>[descrição_coca light, descrição_limao Taiti]</td>\n",
       "      <td>[descrição_banana prata]</td>\n",
       "      <td>1</td>\n",
       "      <td>4</td>\n",
       "    </tr>\n",
       "    <tr>\n",
       "      <th>3</th>\n",
       "      <td>[descrição_coca light, descrição_limao Taiti]</td>\n",
       "      <td>[descrição_omo progress]</td>\n",
       "      <td>1</td>\n",
       "      <td>4</td>\n",
       "    </tr>\n",
       "    <tr>\n",
       "      <th>13</th>\n",
       "      <td>[descrição_omo progress]</td>\n",
       "      <td>[descrição_coca light, descrição_limao Taiti]</td>\n",
       "      <td>1</td>\n",
       "      <td>6</td>\n",
       "    </tr>\n",
       "  </tbody>\n",
       "</table>\n",
       "</div>"
      ],
      "text/plain": [
       "                                        antecedents  \\\n",
       "7                       [descrição_limão siciliano]   \n",
       "8                           [descrição_ariel total]   \n",
       "9                           [descrição_omo collors]   \n",
       "10                          [descrição_omo collors]   \n",
       "11                     [descrição_coca lemon light]   \n",
       "12                         [descrição_omo progress]   \n",
       "4                                  [descrição_coca]   \n",
       "5    [descrição_banana prata, descrição_coca light]   \n",
       "6    [descrição_coca light, descrição_omo progress]   \n",
       "0                          [descrição_omo progress]   \n",
       "1   [descrição_banana prata, descrição_limao Taiti]   \n",
       "2     [descrição_coca light, descrição_limao Taiti]   \n",
       "3     [descrição_coca light, descrição_limao Taiti]   \n",
       "13                         [descrição_omo progress]   \n",
       "\n",
       "                                      consequents  potencial_transactions  \\\n",
       "7                        [descrição_banana prata]                       4   \n",
       "8                         [descrição_limao Taiti]                       4   \n",
       "9                        [descrição_banana prata]                       4   \n",
       "10                         [descrição_coca light]                       4   \n",
       "11                        [descrição_limao Taiti]                       3   \n",
       "12                        [descrição_limao Taiti]                       3   \n",
       "4                      [descrição_banana caturra]                       2   \n",
       "5                         [descrição_limao Taiti]                       2   \n",
       "6                         [descrição_limao Taiti]                       2   \n",
       "0                          [descrição_coca light]                       1   \n",
       "1                          [descrição_coca light]                       1   \n",
       "2                        [descrição_banana prata]                       1   \n",
       "3                        [descrição_omo progress]                       1   \n",
       "13  [descrição_coca light, descrição_limao Taiti]                       1   \n",
       "\n",
       "    total_antecedents  \n",
       "7                   9  \n",
       "8                   8  \n",
       "9                   8  \n",
       "10                  8  \n",
       "11                  6  \n",
       "12                  6  \n",
       "4                   5  \n",
       "5                   5  \n",
       "6                   5  \n",
       "0                   6  \n",
       "1                   4  \n",
       "2                   4  \n",
       "3                   4  \n",
       "13                  6  "
      ]
     },
     "execution_count": 43,
     "metadata": {},
     "output_type": "execute_result"
    }
   ],
   "source": [
    "rules_to_estimate = rules_description.query(\"confidence != 1\")\n",
    "\n",
    "rules_to_estimate = rules_to_estimate[['antecedents', 'consequents']] \n",
    "\n",
    "rules_to_estimate['antecedents'] = rules_to_estimate.antecedents.apply(lambda x: list(x))\n",
    "rules_to_estimate['consequents'] = rules_to_estimate.consequents.apply(lambda x: list(x))\n",
    "\n",
    "result_potencial = calculate_potential_transactions_in_rules(rules_to_estimate, df_description)\n",
    "result_potencial = result_potencial.sort_values(by='potencial_transactions', ascending=False)\n",
    "result_potencial"
   ]
  },
  {
   "cell_type": "code",
   "execution_count": 44,
   "metadata": {},
   "outputs": [
    {
     "data": {
      "text/html": [
       "<div>\n",
       "<style scoped>\n",
       "    .dataframe tbody tr th:only-of-type {\n",
       "        vertical-align: middle;\n",
       "    }\n",
       "\n",
       "    .dataframe tbody tr th {\n",
       "        vertical-align: top;\n",
       "    }\n",
       "\n",
       "    .dataframe thead th {\n",
       "        text-align: right;\n",
       "    }\n",
       "</style>\n",
       "<table border=\"1\" class=\"dataframe\">\n",
       "  <thead>\n",
       "    <tr style=\"text-align: right;\">\n",
       "      <th></th>\n",
       "      <th>antecedents</th>\n",
       "      <th>consequents</th>\n",
       "      <th>potencial_transactions</th>\n",
       "      <th>total_antecedents</th>\n",
       "      <th>taxa_de_aumento</th>\n",
       "    </tr>\n",
       "  </thead>\n",
       "  <tbody>\n",
       "    <tr>\n",
       "      <th>7</th>\n",
       "      <td>[descrição_limão siciliano]</td>\n",
       "      <td>[descrição_banana prata]</td>\n",
       "      <td>4</td>\n",
       "      <td>9</td>\n",
       "      <td>44.444444</td>\n",
       "    </tr>\n",
       "    <tr>\n",
       "      <th>8</th>\n",
       "      <td>[descrição_ariel total]</td>\n",
       "      <td>[descrição_limao Taiti]</td>\n",
       "      <td>4</td>\n",
       "      <td>8</td>\n",
       "      <td>50.000000</td>\n",
       "    </tr>\n",
       "    <tr>\n",
       "      <th>9</th>\n",
       "      <td>[descrição_omo collors]</td>\n",
       "      <td>[descrição_banana prata]</td>\n",
       "      <td>4</td>\n",
       "      <td>8</td>\n",
       "      <td>50.000000</td>\n",
       "    </tr>\n",
       "    <tr>\n",
       "      <th>10</th>\n",
       "      <td>[descrição_omo collors]</td>\n",
       "      <td>[descrição_coca light]</td>\n",
       "      <td>4</td>\n",
       "      <td>8</td>\n",
       "      <td>50.000000</td>\n",
       "    </tr>\n",
       "    <tr>\n",
       "      <th>11</th>\n",
       "      <td>[descrição_coca lemon light]</td>\n",
       "      <td>[descrição_limao Taiti]</td>\n",
       "      <td>3</td>\n",
       "      <td>6</td>\n",
       "      <td>50.000000</td>\n",
       "    </tr>\n",
       "    <tr>\n",
       "      <th>12</th>\n",
       "      <td>[descrição_omo progress]</td>\n",
       "      <td>[descrição_limao Taiti]</td>\n",
       "      <td>3</td>\n",
       "      <td>6</td>\n",
       "      <td>50.000000</td>\n",
       "    </tr>\n",
       "    <tr>\n",
       "      <th>4</th>\n",
       "      <td>[descrição_coca]</td>\n",
       "      <td>[descrição_banana caturra]</td>\n",
       "      <td>2</td>\n",
       "      <td>5</td>\n",
       "      <td>40.000000</td>\n",
       "    </tr>\n",
       "    <tr>\n",
       "      <th>5</th>\n",
       "      <td>[descrição_banana prata, descrição_coca light]</td>\n",
       "      <td>[descrição_limao Taiti]</td>\n",
       "      <td>2</td>\n",
       "      <td>5</td>\n",
       "      <td>40.000000</td>\n",
       "    </tr>\n",
       "    <tr>\n",
       "      <th>6</th>\n",
       "      <td>[descrição_coca light, descrição_omo progress]</td>\n",
       "      <td>[descrição_limao Taiti]</td>\n",
       "      <td>2</td>\n",
       "      <td>5</td>\n",
       "      <td>40.000000</td>\n",
       "    </tr>\n",
       "    <tr>\n",
       "      <th>0</th>\n",
       "      <td>[descrição_omo progress]</td>\n",
       "      <td>[descrição_coca light]</td>\n",
       "      <td>1</td>\n",
       "      <td>6</td>\n",
       "      <td>16.666667</td>\n",
       "    </tr>\n",
       "    <tr>\n",
       "      <th>1</th>\n",
       "      <td>[descrição_banana prata, descrição_limao Taiti]</td>\n",
       "      <td>[descrição_coca light]</td>\n",
       "      <td>1</td>\n",
       "      <td>4</td>\n",
       "      <td>25.000000</td>\n",
       "    </tr>\n",
       "    <tr>\n",
       "      <th>2</th>\n",
       "      <td>[descrição_coca light, descrição_limao Taiti]</td>\n",
       "      <td>[descrição_banana prata]</td>\n",
       "      <td>1</td>\n",
       "      <td>4</td>\n",
       "      <td>25.000000</td>\n",
       "    </tr>\n",
       "    <tr>\n",
       "      <th>3</th>\n",
       "      <td>[descrição_coca light, descrição_limao Taiti]</td>\n",
       "      <td>[descrição_omo progress]</td>\n",
       "      <td>1</td>\n",
       "      <td>4</td>\n",
       "      <td>25.000000</td>\n",
       "    </tr>\n",
       "    <tr>\n",
       "      <th>13</th>\n",
       "      <td>[descrição_omo progress]</td>\n",
       "      <td>[descrição_coca light, descrição_limao Taiti]</td>\n",
       "      <td>1</td>\n",
       "      <td>6</td>\n",
       "      <td>16.666667</td>\n",
       "    </tr>\n",
       "  </tbody>\n",
       "</table>\n",
       "</div>"
      ],
      "text/plain": [
       "                                        antecedents  \\\n",
       "7                       [descrição_limão siciliano]   \n",
       "8                           [descrição_ariel total]   \n",
       "9                           [descrição_omo collors]   \n",
       "10                          [descrição_omo collors]   \n",
       "11                     [descrição_coca lemon light]   \n",
       "12                         [descrição_omo progress]   \n",
       "4                                  [descrição_coca]   \n",
       "5    [descrição_banana prata, descrição_coca light]   \n",
       "6    [descrição_coca light, descrição_omo progress]   \n",
       "0                          [descrição_omo progress]   \n",
       "1   [descrição_banana prata, descrição_limao Taiti]   \n",
       "2     [descrição_coca light, descrição_limao Taiti]   \n",
       "3     [descrição_coca light, descrição_limao Taiti]   \n",
       "13                         [descrição_omo progress]   \n",
       "\n",
       "                                      consequents  potencial_transactions  \\\n",
       "7                        [descrição_banana prata]                       4   \n",
       "8                         [descrição_limao Taiti]                       4   \n",
       "9                        [descrição_banana prata]                       4   \n",
       "10                         [descrição_coca light]                       4   \n",
       "11                        [descrição_limao Taiti]                       3   \n",
       "12                        [descrição_limao Taiti]                       3   \n",
       "4                      [descrição_banana caturra]                       2   \n",
       "5                         [descrição_limao Taiti]                       2   \n",
       "6                         [descrição_limao Taiti]                       2   \n",
       "0                          [descrição_coca light]                       1   \n",
       "1                          [descrição_coca light]                       1   \n",
       "2                        [descrição_banana prata]                       1   \n",
       "3                        [descrição_omo progress]                       1   \n",
       "13  [descrição_coca light, descrição_limao Taiti]                       1   \n",
       "\n",
       "    total_antecedents  taxa_de_aumento  \n",
       "7                   9        44.444444  \n",
       "8                   8        50.000000  \n",
       "9                   8        50.000000  \n",
       "10                  8        50.000000  \n",
       "11                  6        50.000000  \n",
       "12                  6        50.000000  \n",
       "4                   5        40.000000  \n",
       "5                   5        40.000000  \n",
       "6                   5        40.000000  \n",
       "0                   6        16.666667  \n",
       "1                   4        25.000000  \n",
       "2                   4        25.000000  \n",
       "3                   4        25.000000  \n",
       "13                  6        16.666667  "
      ]
     },
     "execution_count": 44,
     "metadata": {},
     "output_type": "execute_result"
    }
   ],
   "source": [
    "result_potencial['taxa_de_aumento'] = (result_potencial['potencial_transactions'] * 100) / result_potencial['total_antecedents'] \n",
    "result_potencial"
   ]
  },
  {
   "cell_type": "code",
   "execution_count": 45,
   "metadata": {},
   "outputs": [
    {
     "data": {
      "text/html": [
       "<div>\n",
       "<style scoped>\n",
       "    .dataframe tbody tr th:only-of-type {\n",
       "        vertical-align: middle;\n",
       "    }\n",
       "\n",
       "    .dataframe tbody tr th {\n",
       "        vertical-align: top;\n",
       "    }\n",
       "\n",
       "    .dataframe thead th {\n",
       "        text-align: right;\n",
       "    }\n",
       "</style>\n",
       "<table border=\"1\" class=\"dataframe\">\n",
       "  <thead>\n",
       "    <tr style=\"text-align: right;\">\n",
       "      <th></th>\n",
       "      <th>rules</th>\n",
       "      <th>potencial_transactions</th>\n",
       "      <th>total_antecedents</th>\n",
       "      <th>taxa_de_aumento</th>\n",
       "    </tr>\n",
       "  </thead>\n",
       "  <tbody>\n",
       "    <tr>\n",
       "      <th>7</th>\n",
       "      <td>{limão siciliano} -&gt; {banana prata}</td>\n",
       "      <td>4</td>\n",
       "      <td>9</td>\n",
       "      <td>44.444444</td>\n",
       "    </tr>\n",
       "    <tr>\n",
       "      <th>8</th>\n",
       "      <td>{ariel total} -&gt; {limao Taiti}</td>\n",
       "      <td>4</td>\n",
       "      <td>8</td>\n",
       "      <td>50.000000</td>\n",
       "    </tr>\n",
       "    <tr>\n",
       "      <th>9</th>\n",
       "      <td>{omo collors} -&gt; {banana prata}</td>\n",
       "      <td>4</td>\n",
       "      <td>8</td>\n",
       "      <td>50.000000</td>\n",
       "    </tr>\n",
       "    <tr>\n",
       "      <th>10</th>\n",
       "      <td>{omo collors} -&gt; {coca light}</td>\n",
       "      <td>4</td>\n",
       "      <td>8</td>\n",
       "      <td>50.000000</td>\n",
       "    </tr>\n",
       "    <tr>\n",
       "      <th>11</th>\n",
       "      <td>{coca lemon light} -&gt; {limao Taiti}</td>\n",
       "      <td>3</td>\n",
       "      <td>6</td>\n",
       "      <td>50.000000</td>\n",
       "    </tr>\n",
       "    <tr>\n",
       "      <th>12</th>\n",
       "      <td>{omo progress} -&gt; {limao Taiti}</td>\n",
       "      <td>3</td>\n",
       "      <td>6</td>\n",
       "      <td>50.000000</td>\n",
       "    </tr>\n",
       "    <tr>\n",
       "      <th>4</th>\n",
       "      <td>{coca} -&gt; {banana caturra}</td>\n",
       "      <td>2</td>\n",
       "      <td>5</td>\n",
       "      <td>40.000000</td>\n",
       "    </tr>\n",
       "    <tr>\n",
       "      <th>5</th>\n",
       "      <td>{banana prata, coca light} -&gt; {limao Taiti}</td>\n",
       "      <td>2</td>\n",
       "      <td>5</td>\n",
       "      <td>40.000000</td>\n",
       "    </tr>\n",
       "    <tr>\n",
       "      <th>6</th>\n",
       "      <td>{coca light, omo progress} -&gt; {limao Taiti}</td>\n",
       "      <td>2</td>\n",
       "      <td>5</td>\n",
       "      <td>40.000000</td>\n",
       "    </tr>\n",
       "    <tr>\n",
       "      <th>0</th>\n",
       "      <td>{omo progress} -&gt; {coca light}</td>\n",
       "      <td>1</td>\n",
       "      <td>6</td>\n",
       "      <td>16.666667</td>\n",
       "    </tr>\n",
       "    <tr>\n",
       "      <th>1</th>\n",
       "      <td>{banana prata, limao Taiti} -&gt; {coca light}</td>\n",
       "      <td>1</td>\n",
       "      <td>4</td>\n",
       "      <td>25.000000</td>\n",
       "    </tr>\n",
       "    <tr>\n",
       "      <th>2</th>\n",
       "      <td>{coca light, limao Taiti} -&gt; {banana prata}</td>\n",
       "      <td>1</td>\n",
       "      <td>4</td>\n",
       "      <td>25.000000</td>\n",
       "    </tr>\n",
       "    <tr>\n",
       "      <th>3</th>\n",
       "      <td>{coca light, limao Taiti} -&gt; {omo progress}</td>\n",
       "      <td>1</td>\n",
       "      <td>4</td>\n",
       "      <td>25.000000</td>\n",
       "    </tr>\n",
       "    <tr>\n",
       "      <th>13</th>\n",
       "      <td>{omo progress} -&gt; {coca light, limao Taiti}</td>\n",
       "      <td>1</td>\n",
       "      <td>6</td>\n",
       "      <td>16.666667</td>\n",
       "    </tr>\n",
       "  </tbody>\n",
       "</table>\n",
       "</div>"
      ],
      "text/plain": [
       "                                          rules  potencial_transactions  \\\n",
       "7           {limão siciliano} -> {banana prata}                       4   \n",
       "8                {ariel total} -> {limao Taiti}                       4   \n",
       "9               {omo collors} -> {banana prata}                       4   \n",
       "10                {omo collors} -> {coca light}                       4   \n",
       "11          {coca lemon light} -> {limao Taiti}                       3   \n",
       "12              {omo progress} -> {limao Taiti}                       3   \n",
       "4                    {coca} -> {banana caturra}                       2   \n",
       "5   {banana prata, coca light} -> {limao Taiti}                       2   \n",
       "6   {coca light, omo progress} -> {limao Taiti}                       2   \n",
       "0                {omo progress} -> {coca light}                       1   \n",
       "1   {banana prata, limao Taiti} -> {coca light}                       1   \n",
       "2   {coca light, limao Taiti} -> {banana prata}                       1   \n",
       "3   {coca light, limao Taiti} -> {omo progress}                       1   \n",
       "13  {omo progress} -> {coca light, limao Taiti}                       1   \n",
       "\n",
       "    total_antecedents  taxa_de_aumento  \n",
       "7                   9        44.444444  \n",
       "8                   8        50.000000  \n",
       "9                   8        50.000000  \n",
       "10                  8        50.000000  \n",
       "11                  6        50.000000  \n",
       "12                  6        50.000000  \n",
       "4                   5        40.000000  \n",
       "5                   5        40.000000  \n",
       "6                   5        40.000000  \n",
       "0                   6        16.666667  \n",
       "1                   4        25.000000  \n",
       "2                   4        25.000000  \n",
       "3                   4        25.000000  \n",
       "13                  6        16.666667  "
      ]
     },
     "execution_count": 45,
     "metadata": {},
     "output_type": "execute_result"
    }
   ],
   "source": [
    "result_potencial = result_potencial.astype({'antecedents':str, 'consequents':str})\n",
    "\n",
    "result_potencial.antecedents = result_potencial.antecedents.apply( lambda x: treat_string(x) )\n",
    "result_potencial.consequents = result_potencial.consequents.apply( lambda x: treat_string(x) )\n",
    "\n",
    "result_potencial['rules'] = result_potencial['antecedents'] + \" -> \" + result_potencial['consequents']\n",
    "result_potencial[['rules', 'potencial_transactions', 'total_antecedents', 'taxa_de_aumento' ]]"
   ]
  }
 ],
 "metadata": {
  "kernelspec": {
   "display_name": "Python 3.9.13 ('sicredi_env')",
   "language": "python",
   "name": "python3"
  },
  "language_info": {
   "codemirror_mode": {
    "name": "ipython",
    "version": 3
   },
   "file_extension": ".py",
   "mimetype": "text/x-python",
   "name": "python",
   "nbconvert_exporter": "python",
   "pygments_lexer": "ipython3",
   "version": "3.9.13"
  },
  "orig_nbformat": 4,
  "vscode": {
   "interpreter": {
    "hash": "80cc24dc9947ce0e8f78d2f86ffd7f5d267b445ba6b65aa2e0cbc0246572490d"
   }
  }
 },
 "nbformat": 4,
 "nbformat_minor": 2
}
